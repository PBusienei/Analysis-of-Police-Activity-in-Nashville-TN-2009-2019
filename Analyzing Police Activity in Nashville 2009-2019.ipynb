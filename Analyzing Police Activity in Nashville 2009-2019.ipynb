{
 "cells": [
  {
   "cell_type": "markdown",
   "metadata": {},
   "source": [
    "# Import Libraries\n",
    "## *Load Dataset using pandas*"
   ]
  },
  {
   "cell_type": "code",
   "execution_count": 1,
   "metadata": {},
   "outputs": [
    {
     "name": "stderr",
     "output_type": "stream",
     "text": [
      "/opt/anaconda3/lib/python3.7/site-packages/IPython/core/interactiveshell.py:3063: DtypeWarning: Columns (6,8,15,16,17,22,23,24,25,29,30,31,32,33,35,36,37,38,40,41) have mixed types.Specify dtype option on import or set low_memory=False.\n",
      "  interactivity=interactivity, compiler=compiler, result=result)\n"
     ]
    },
    {
     "data": {
      "text/html": [
       "<div>\n",
       "<style scoped>\n",
       "    .dataframe tbody tr th:only-of-type {\n",
       "        vertical-align: middle;\n",
       "    }\n",
       "\n",
       "    .dataframe tbody tr th {\n",
       "        vertical-align: top;\n",
       "    }\n",
       "\n",
       "    .dataframe thead th {\n",
       "        text-align: right;\n",
       "    }\n",
       "</style>\n",
       "<table border=\"1\" class=\"dataframe\">\n",
       "  <thead>\n",
       "    <tr style=\"text-align: right;\">\n",
       "      <th></th>\n",
       "      <th>raw_row_number</th>\n",
       "      <th>date</th>\n",
       "      <th>time</th>\n",
       "      <th>location</th>\n",
       "      <th>lat</th>\n",
       "      <th>lng</th>\n",
       "      <th>precinct</th>\n",
       "      <th>reporting_area</th>\n",
       "      <th>zone</th>\n",
       "      <th>subject_age</th>\n",
       "      <th>subject_race</th>\n",
       "      <th>subject_sex</th>\n",
       "      <th>officer_id_hash</th>\n",
       "      <th>type</th>\n",
       "      <th>violation</th>\n",
       "      <th>arrest_made</th>\n",
       "      <th>citation_issued</th>\n",
       "      <th>warning_issued</th>\n",
       "      <th>outcome</th>\n",
       "      <th>contraband_found</th>\n",
       "      <th>contraband_drugs</th>\n",
       "      <th>contraband_weapons</th>\n",
       "      <th>frisk_performed</th>\n",
       "      <th>search_conducted</th>\n",
       "      <th>search_person</th>\n",
       "      <th>search_vehicle</th>\n",
       "      <th>search_basis</th>\n",
       "      <th>reason_for_stop</th>\n",
       "      <th>vehicle_registration_state</th>\n",
       "      <th>notes</th>\n",
       "      <th>raw_verbal_warning_issued</th>\n",
       "      <th>raw_written_warning_issued</th>\n",
       "      <th>raw_traffic_citation_issued</th>\n",
       "      <th>raw_misd_state_citation_issued</th>\n",
       "      <th>raw_suspect_ethnicity</th>\n",
       "      <th>raw_driver_searched</th>\n",
       "      <th>raw_passenger_searched</th>\n",
       "      <th>raw_search_consent</th>\n",
       "      <th>raw_search_arrest</th>\n",
       "      <th>raw_search_warrant</th>\n",
       "      <th>raw_search_inventory</th>\n",
       "      <th>raw_search_plain_view</th>\n",
       "    </tr>\n",
       "  </thead>\n",
       "  <tbody>\n",
       "    <tr>\n",
       "      <th>0</th>\n",
       "      <td>232947</td>\n",
       "      <td>2010-10-10</td>\n",
       "      <td>NaN</td>\n",
       "      <td>DOMINICAN DR &amp; ROSA L PARKS BLVD, NASHVILLE, T...</td>\n",
       "      <td>36.187925</td>\n",
       "      <td>-86.798519</td>\n",
       "      <td>6</td>\n",
       "      <td>4403.0</td>\n",
       "      <td>611</td>\n",
       "      <td>27.0</td>\n",
       "      <td>black</td>\n",
       "      <td>male</td>\n",
       "      <td>80ed1b32eb</td>\n",
       "      <td>vehicular</td>\n",
       "      <td>investigative stop</td>\n",
       "      <td>False</td>\n",
       "      <td>False</td>\n",
       "      <td>True</td>\n",
       "      <td>warning</td>\n",
       "      <td>NaN</td>\n",
       "      <td>NaN</td>\n",
       "      <td>NaN</td>\n",
       "      <td>False</td>\n",
       "      <td>False</td>\n",
       "      <td>False</td>\n",
       "      <td>False</td>\n",
       "      <td>NaN</td>\n",
       "      <td>investigative stop</td>\n",
       "      <td>TN</td>\n",
       "      <td>NaN</td>\n",
       "      <td>True</td>\n",
       "      <td>False</td>\n",
       "      <td>False</td>\n",
       "      <td>NaN</td>\n",
       "      <td>N</td>\n",
       "      <td>False</td>\n",
       "      <td>False</td>\n",
       "      <td>False</td>\n",
       "      <td>False</td>\n",
       "      <td>False</td>\n",
       "      <td>False</td>\n",
       "      <td>False</td>\n",
       "    </tr>\n",
       "    <tr>\n",
       "      <th>1</th>\n",
       "      <td>237161</td>\n",
       "      <td>2010-10-10</td>\n",
       "      <td>10:00:00</td>\n",
       "      <td>1122 LEBANON PIKE, NASHVILLE, TN, 37210</td>\n",
       "      <td>36.155521</td>\n",
       "      <td>-86.735902</td>\n",
       "      <td>5</td>\n",
       "      <td>9035.0</td>\n",
       "      <td>513</td>\n",
       "      <td>18.0</td>\n",
       "      <td>white</td>\n",
       "      <td>male</td>\n",
       "      <td>a983204b21</td>\n",
       "      <td>vehicular</td>\n",
       "      <td>moving traffic violation</td>\n",
       "      <td>False</td>\n",
       "      <td>True</td>\n",
       "      <td>False</td>\n",
       "      <td>citation</td>\n",
       "      <td>NaN</td>\n",
       "      <td>NaN</td>\n",
       "      <td>NaN</td>\n",
       "      <td>False</td>\n",
       "      <td>False</td>\n",
       "      <td>False</td>\n",
       "      <td>False</td>\n",
       "      <td>NaN</td>\n",
       "      <td>moving traffic violation</td>\n",
       "      <td>TN</td>\n",
       "      <td>NaN</td>\n",
       "      <td>False</td>\n",
       "      <td>False</td>\n",
       "      <td>True</td>\n",
       "      <td>NaN</td>\n",
       "      <td>N</td>\n",
       "      <td>False</td>\n",
       "      <td>False</td>\n",
       "      <td>False</td>\n",
       "      <td>False</td>\n",
       "      <td>False</td>\n",
       "      <td>False</td>\n",
       "      <td>False</td>\n",
       "    </tr>\n",
       "    <tr>\n",
       "      <th>2</th>\n",
       "      <td>232902</td>\n",
       "      <td>2010-10-10</td>\n",
       "      <td>10:00:00</td>\n",
       "      <td>898 DAVIDSON DR, , TN, 37205</td>\n",
       "      <td>36.117420</td>\n",
       "      <td>-86.895593</td>\n",
       "      <td>1</td>\n",
       "      <td>5005.0</td>\n",
       "      <td>121</td>\n",
       "      <td>52.0</td>\n",
       "      <td>white</td>\n",
       "      <td>male</td>\n",
       "      <td>f5d8fbd78b</td>\n",
       "      <td>vehicular</td>\n",
       "      <td>vehicle equipment violation</td>\n",
       "      <td>False</td>\n",
       "      <td>False</td>\n",
       "      <td>True</td>\n",
       "      <td>warning</td>\n",
       "      <td>NaN</td>\n",
       "      <td>NaN</td>\n",
       "      <td>NaN</td>\n",
       "      <td>False</td>\n",
       "      <td>False</td>\n",
       "      <td>False</td>\n",
       "      <td>False</td>\n",
       "      <td>NaN</td>\n",
       "      <td>vehicle equipment violation</td>\n",
       "      <td>TN</td>\n",
       "      <td>NaN</td>\n",
       "      <td>True</td>\n",
       "      <td>False</td>\n",
       "      <td>False</td>\n",
       "      <td>NaN</td>\n",
       "      <td>N</td>\n",
       "      <td>False</td>\n",
       "      <td>False</td>\n",
       "      <td>False</td>\n",
       "      <td>False</td>\n",
       "      <td>False</td>\n",
       "      <td>False</td>\n",
       "      <td>False</td>\n",
       "    </tr>\n",
       "  </tbody>\n",
       "</table>\n",
       "</div>"
      ],
      "text/plain": [
       "  raw_row_number        date      time  \\\n",
       "0         232947  2010-10-10       NaN   \n",
       "1         237161  2010-10-10  10:00:00   \n",
       "2         232902  2010-10-10  10:00:00   \n",
       "\n",
       "                                            location        lat        lng  \\\n",
       "0  DOMINICAN DR & ROSA L PARKS BLVD, NASHVILLE, T...  36.187925 -86.798519   \n",
       "1            1122 LEBANON PIKE, NASHVILLE, TN, 37210  36.155521 -86.735902   \n",
       "2                       898 DAVIDSON DR, , TN, 37205  36.117420 -86.895593   \n",
       "\n",
       "  precinct  reporting_area zone  subject_age subject_race subject_sex  \\\n",
       "0        6          4403.0  611         27.0        black        male   \n",
       "1        5          9035.0  513         18.0        white        male   \n",
       "2        1          5005.0  121         52.0        white        male   \n",
       "\n",
       "  officer_id_hash       type                    violation arrest_made  \\\n",
       "0      80ed1b32eb  vehicular           investigative stop       False   \n",
       "1      a983204b21  vehicular     moving traffic violation       False   \n",
       "2      f5d8fbd78b  vehicular  vehicle equipment violation       False   \n",
       "\n",
       "  citation_issued warning_issued   outcome contraband_found contraband_drugs  \\\n",
       "0           False           True   warning              NaN              NaN   \n",
       "1            True          False  citation              NaN              NaN   \n",
       "2           False           True   warning              NaN              NaN   \n",
       "\n",
       "  contraband_weapons frisk_performed search_conducted search_person  \\\n",
       "0                NaN           False            False         False   \n",
       "1                NaN           False            False         False   \n",
       "2                NaN           False            False         False   \n",
       "\n",
       "  search_vehicle search_basis              reason_for_stop  \\\n",
       "0          False          NaN           investigative stop   \n",
       "1          False          NaN     moving traffic violation   \n",
       "2          False          NaN  vehicle equipment violation   \n",
       "\n",
       "  vehicle_registration_state notes raw_verbal_warning_issued  \\\n",
       "0                         TN   NaN                      True   \n",
       "1                         TN   NaN                     False   \n",
       "2                         TN   NaN                      True   \n",
       "\n",
       "  raw_written_warning_issued raw_traffic_citation_issued  \\\n",
       "0                      False                       False   \n",
       "1                      False                        True   \n",
       "2                      False                       False   \n",
       "\n",
       "  raw_misd_state_citation_issued raw_suspect_ethnicity raw_driver_searched  \\\n",
       "0                            NaN                     N               False   \n",
       "1                            NaN                     N               False   \n",
       "2                            NaN                     N               False   \n",
       "\n",
       "  raw_passenger_searched raw_search_consent raw_search_arrest  \\\n",
       "0                  False              False             False   \n",
       "1                  False              False             False   \n",
       "2                  False              False             False   \n",
       "\n",
       "   raw_search_warrant raw_search_inventory raw_search_plain_view  \n",
       "0               False                False                 False  \n",
       "1               False                False                 False  \n",
       "2               False                False                 False  "
      ]
     },
     "execution_count": 1,
     "metadata": {},
     "output_type": "execute_result"
    }
   ],
   "source": [
    "import pandas as pd\n",
    "df = pd.read_csv('data/tn_nashville_2020_04_01.csv')\n",
    "pd.set_option('max_columns', None)# The display.max_columns(or 'max_columns') option controls the number of columns to be printed\n",
    "#pd.reset_option(“max_columns”) # To go back to the default value, you need to reset the option\n",
    "df.head(3)"
   ]
  },
  {
   "cell_type": "markdown",
   "metadata": {},
   "source": [
    "### Locate the missing values in the dataset"
   ]
  },
  {
   "cell_type": "code",
   "execution_count": 2,
   "metadata": {},
   "outputs": [
    {
     "data": {
      "text/html": [
       "<div>\n",
       "<style scoped>\n",
       "    .dataframe tbody tr th:only-of-type {\n",
       "        vertical-align: middle;\n",
       "    }\n",
       "\n",
       "    .dataframe tbody tr th {\n",
       "        vertical-align: top;\n",
       "    }\n",
       "\n",
       "    .dataframe thead th {\n",
       "        text-align: right;\n",
       "    }\n",
       "</style>\n",
       "<table border=\"1\" class=\"dataframe\">\n",
       "  <thead>\n",
       "    <tr style=\"text-align: right;\">\n",
       "      <th></th>\n",
       "      <th>raw_row_number</th>\n",
       "      <th>date</th>\n",
       "      <th>time</th>\n",
       "      <th>location</th>\n",
       "      <th>lat</th>\n",
       "      <th>lng</th>\n",
       "      <th>precinct</th>\n",
       "      <th>reporting_area</th>\n",
       "      <th>zone</th>\n",
       "      <th>subject_age</th>\n",
       "      <th>subject_race</th>\n",
       "      <th>subject_sex</th>\n",
       "      <th>officer_id_hash</th>\n",
       "      <th>type</th>\n",
       "      <th>violation</th>\n",
       "      <th>arrest_made</th>\n",
       "      <th>citation_issued</th>\n",
       "      <th>warning_issued</th>\n",
       "      <th>outcome</th>\n",
       "      <th>contraband_found</th>\n",
       "      <th>contraband_drugs</th>\n",
       "      <th>contraband_weapons</th>\n",
       "      <th>frisk_performed</th>\n",
       "      <th>search_conducted</th>\n",
       "      <th>search_person</th>\n",
       "      <th>search_vehicle</th>\n",
       "      <th>search_basis</th>\n",
       "      <th>reason_for_stop</th>\n",
       "      <th>vehicle_registration_state</th>\n",
       "      <th>notes</th>\n",
       "      <th>raw_verbal_warning_issued</th>\n",
       "      <th>raw_written_warning_issued</th>\n",
       "      <th>raw_traffic_citation_issued</th>\n",
       "      <th>raw_misd_state_citation_issued</th>\n",
       "      <th>raw_suspect_ethnicity</th>\n",
       "      <th>raw_driver_searched</th>\n",
       "      <th>raw_passenger_searched</th>\n",
       "      <th>raw_search_consent</th>\n",
       "      <th>raw_search_arrest</th>\n",
       "      <th>raw_search_warrant</th>\n",
       "      <th>raw_search_inventory</th>\n",
       "      <th>raw_search_plain_view</th>\n",
       "    </tr>\n",
       "  </thead>\n",
       "  <tbody>\n",
       "    <tr>\n",
       "      <th>0</th>\n",
       "      <td>False</td>\n",
       "      <td>False</td>\n",
       "      <td>True</td>\n",
       "      <td>False</td>\n",
       "      <td>False</td>\n",
       "      <td>False</td>\n",
       "      <td>False</td>\n",
       "      <td>False</td>\n",
       "      <td>False</td>\n",
       "      <td>False</td>\n",
       "      <td>False</td>\n",
       "      <td>False</td>\n",
       "      <td>False</td>\n",
       "      <td>False</td>\n",
       "      <td>False</td>\n",
       "      <td>False</td>\n",
       "      <td>False</td>\n",
       "      <td>False</td>\n",
       "      <td>False</td>\n",
       "      <td>True</td>\n",
       "      <td>True</td>\n",
       "      <td>True</td>\n",
       "      <td>False</td>\n",
       "      <td>False</td>\n",
       "      <td>False</td>\n",
       "      <td>False</td>\n",
       "      <td>True</td>\n",
       "      <td>False</td>\n",
       "      <td>False</td>\n",
       "      <td>True</td>\n",
       "      <td>False</td>\n",
       "      <td>False</td>\n",
       "      <td>False</td>\n",
       "      <td>True</td>\n",
       "      <td>False</td>\n",
       "      <td>False</td>\n",
       "      <td>False</td>\n",
       "      <td>False</td>\n",
       "      <td>False</td>\n",
       "      <td>False</td>\n",
       "      <td>False</td>\n",
       "      <td>False</td>\n",
       "    </tr>\n",
       "    <tr>\n",
       "      <th>1</th>\n",
       "      <td>False</td>\n",
       "      <td>False</td>\n",
       "      <td>False</td>\n",
       "      <td>False</td>\n",
       "      <td>False</td>\n",
       "      <td>False</td>\n",
       "      <td>False</td>\n",
       "      <td>False</td>\n",
       "      <td>False</td>\n",
       "      <td>False</td>\n",
       "      <td>False</td>\n",
       "      <td>False</td>\n",
       "      <td>False</td>\n",
       "      <td>False</td>\n",
       "      <td>False</td>\n",
       "      <td>False</td>\n",
       "      <td>False</td>\n",
       "      <td>False</td>\n",
       "      <td>False</td>\n",
       "      <td>True</td>\n",
       "      <td>True</td>\n",
       "      <td>True</td>\n",
       "      <td>False</td>\n",
       "      <td>False</td>\n",
       "      <td>False</td>\n",
       "      <td>False</td>\n",
       "      <td>True</td>\n",
       "      <td>False</td>\n",
       "      <td>False</td>\n",
       "      <td>True</td>\n",
       "      <td>False</td>\n",
       "      <td>False</td>\n",
       "      <td>False</td>\n",
       "      <td>True</td>\n",
       "      <td>False</td>\n",
       "      <td>False</td>\n",
       "      <td>False</td>\n",
       "      <td>False</td>\n",
       "      <td>False</td>\n",
       "      <td>False</td>\n",
       "      <td>False</td>\n",
       "      <td>False</td>\n",
       "    </tr>\n",
       "    <tr>\n",
       "      <th>2</th>\n",
       "      <td>False</td>\n",
       "      <td>False</td>\n",
       "      <td>False</td>\n",
       "      <td>False</td>\n",
       "      <td>False</td>\n",
       "      <td>False</td>\n",
       "      <td>False</td>\n",
       "      <td>False</td>\n",
       "      <td>False</td>\n",
       "      <td>False</td>\n",
       "      <td>False</td>\n",
       "      <td>False</td>\n",
       "      <td>False</td>\n",
       "      <td>False</td>\n",
       "      <td>False</td>\n",
       "      <td>False</td>\n",
       "      <td>False</td>\n",
       "      <td>False</td>\n",
       "      <td>False</td>\n",
       "      <td>True</td>\n",
       "      <td>True</td>\n",
       "      <td>True</td>\n",
       "      <td>False</td>\n",
       "      <td>False</td>\n",
       "      <td>False</td>\n",
       "      <td>False</td>\n",
       "      <td>True</td>\n",
       "      <td>False</td>\n",
       "      <td>False</td>\n",
       "      <td>True</td>\n",
       "      <td>False</td>\n",
       "      <td>False</td>\n",
       "      <td>False</td>\n",
       "      <td>True</td>\n",
       "      <td>False</td>\n",
       "      <td>False</td>\n",
       "      <td>False</td>\n",
       "      <td>False</td>\n",
       "      <td>False</td>\n",
       "      <td>False</td>\n",
       "      <td>False</td>\n",
       "      <td>False</td>\n",
       "    </tr>\n",
       "    <tr>\n",
       "      <th>3</th>\n",
       "      <td>False</td>\n",
       "      <td>False</td>\n",
       "      <td>False</td>\n",
       "      <td>False</td>\n",
       "      <td>False</td>\n",
       "      <td>False</td>\n",
       "      <td>False</td>\n",
       "      <td>False</td>\n",
       "      <td>False</td>\n",
       "      <td>False</td>\n",
       "      <td>False</td>\n",
       "      <td>False</td>\n",
       "      <td>False</td>\n",
       "      <td>False</td>\n",
       "      <td>False</td>\n",
       "      <td>False</td>\n",
       "      <td>False</td>\n",
       "      <td>False</td>\n",
       "      <td>False</td>\n",
       "      <td>True</td>\n",
       "      <td>True</td>\n",
       "      <td>True</td>\n",
       "      <td>False</td>\n",
       "      <td>False</td>\n",
       "      <td>False</td>\n",
       "      <td>False</td>\n",
       "      <td>True</td>\n",
       "      <td>False</td>\n",
       "      <td>False</td>\n",
       "      <td>True</td>\n",
       "      <td>False</td>\n",
       "      <td>False</td>\n",
       "      <td>False</td>\n",
       "      <td>True</td>\n",
       "      <td>False</td>\n",
       "      <td>False</td>\n",
       "      <td>False</td>\n",
       "      <td>False</td>\n",
       "      <td>False</td>\n",
       "      <td>False</td>\n",
       "      <td>False</td>\n",
       "      <td>False</td>\n",
       "    </tr>\n",
       "    <tr>\n",
       "      <th>4</th>\n",
       "      <td>False</td>\n",
       "      <td>False</td>\n",
       "      <td>False</td>\n",
       "      <td>False</td>\n",
       "      <td>False</td>\n",
       "      <td>False</td>\n",
       "      <td>True</td>\n",
       "      <td>True</td>\n",
       "      <td>True</td>\n",
       "      <td>False</td>\n",
       "      <td>False</td>\n",
       "      <td>False</td>\n",
       "      <td>False</td>\n",
       "      <td>False</td>\n",
       "      <td>False</td>\n",
       "      <td>False</td>\n",
       "      <td>False</td>\n",
       "      <td>False</td>\n",
       "      <td>False</td>\n",
       "      <td>False</td>\n",
       "      <td>False</td>\n",
       "      <td>False</td>\n",
       "      <td>False</td>\n",
       "      <td>False</td>\n",
       "      <td>False</td>\n",
       "      <td>False</td>\n",
       "      <td>False</td>\n",
       "      <td>False</td>\n",
       "      <td>False</td>\n",
       "      <td>True</td>\n",
       "      <td>False</td>\n",
       "      <td>False</td>\n",
       "      <td>False</td>\n",
       "      <td>True</td>\n",
       "      <td>False</td>\n",
       "      <td>False</td>\n",
       "      <td>False</td>\n",
       "      <td>False</td>\n",
       "      <td>False</td>\n",
       "      <td>False</td>\n",
       "      <td>False</td>\n",
       "      <td>False</td>\n",
       "    </tr>\n",
       "    <tr>\n",
       "      <th>...</th>\n",
       "      <td>...</td>\n",
       "      <td>...</td>\n",
       "      <td>...</td>\n",
       "      <td>...</td>\n",
       "      <td>...</td>\n",
       "      <td>...</td>\n",
       "      <td>...</td>\n",
       "      <td>...</td>\n",
       "      <td>...</td>\n",
       "      <td>...</td>\n",
       "      <td>...</td>\n",
       "      <td>...</td>\n",
       "      <td>...</td>\n",
       "      <td>...</td>\n",
       "      <td>...</td>\n",
       "      <td>...</td>\n",
       "      <td>...</td>\n",
       "      <td>...</td>\n",
       "      <td>...</td>\n",
       "      <td>...</td>\n",
       "      <td>...</td>\n",
       "      <td>...</td>\n",
       "      <td>...</td>\n",
       "      <td>...</td>\n",
       "      <td>...</td>\n",
       "      <td>...</td>\n",
       "      <td>...</td>\n",
       "      <td>...</td>\n",
       "      <td>...</td>\n",
       "      <td>...</td>\n",
       "      <td>...</td>\n",
       "      <td>...</td>\n",
       "      <td>...</td>\n",
       "      <td>...</td>\n",
       "      <td>...</td>\n",
       "      <td>...</td>\n",
       "      <td>...</td>\n",
       "      <td>...</td>\n",
       "      <td>...</td>\n",
       "      <td>...</td>\n",
       "      <td>...</td>\n",
       "      <td>...</td>\n",
       "    </tr>\n",
       "    <tr>\n",
       "      <th>3092346</th>\n",
       "      <td>False</td>\n",
       "      <td>False</td>\n",
       "      <td>False</td>\n",
       "      <td>False</td>\n",
       "      <td>False</td>\n",
       "      <td>False</td>\n",
       "      <td>False</td>\n",
       "      <td>False</td>\n",
       "      <td>False</td>\n",
       "      <td>False</td>\n",
       "      <td>False</td>\n",
       "      <td>False</td>\n",
       "      <td>False</td>\n",
       "      <td>False</td>\n",
       "      <td>False</td>\n",
       "      <td>False</td>\n",
       "      <td>False</td>\n",
       "      <td>False</td>\n",
       "      <td>False</td>\n",
       "      <td>True</td>\n",
       "      <td>True</td>\n",
       "      <td>True</td>\n",
       "      <td>False</td>\n",
       "      <td>False</td>\n",
       "      <td>False</td>\n",
       "      <td>False</td>\n",
       "      <td>True</td>\n",
       "      <td>False</td>\n",
       "      <td>False</td>\n",
       "      <td>True</td>\n",
       "      <td>False</td>\n",
       "      <td>False</td>\n",
       "      <td>False</td>\n",
       "      <td>False</td>\n",
       "      <td>False</td>\n",
       "      <td>False</td>\n",
       "      <td>False</td>\n",
       "      <td>False</td>\n",
       "      <td>False</td>\n",
       "      <td>False</td>\n",
       "      <td>False</td>\n",
       "      <td>False</td>\n",
       "    </tr>\n",
       "    <tr>\n",
       "      <th>3092347</th>\n",
       "      <td>False</td>\n",
       "      <td>False</td>\n",
       "      <td>False</td>\n",
       "      <td>False</td>\n",
       "      <td>True</td>\n",
       "      <td>True</td>\n",
       "      <td>True</td>\n",
       "      <td>True</td>\n",
       "      <td>True</td>\n",
       "      <td>False</td>\n",
       "      <td>False</td>\n",
       "      <td>False</td>\n",
       "      <td>False</td>\n",
       "      <td>False</td>\n",
       "      <td>False</td>\n",
       "      <td>False</td>\n",
       "      <td>False</td>\n",
       "      <td>False</td>\n",
       "      <td>False</td>\n",
       "      <td>True</td>\n",
       "      <td>True</td>\n",
       "      <td>True</td>\n",
       "      <td>False</td>\n",
       "      <td>False</td>\n",
       "      <td>False</td>\n",
       "      <td>False</td>\n",
       "      <td>True</td>\n",
       "      <td>False</td>\n",
       "      <td>False</td>\n",
       "      <td>True</td>\n",
       "      <td>False</td>\n",
       "      <td>False</td>\n",
       "      <td>False</td>\n",
       "      <td>False</td>\n",
       "      <td>False</td>\n",
       "      <td>False</td>\n",
       "      <td>False</td>\n",
       "      <td>False</td>\n",
       "      <td>False</td>\n",
       "      <td>False</td>\n",
       "      <td>False</td>\n",
       "      <td>False</td>\n",
       "    </tr>\n",
       "    <tr>\n",
       "      <th>3092348</th>\n",
       "      <td>False</td>\n",
       "      <td>False</td>\n",
       "      <td>False</td>\n",
       "      <td>False</td>\n",
       "      <td>False</td>\n",
       "      <td>False</td>\n",
       "      <td>False</td>\n",
       "      <td>False</td>\n",
       "      <td>False</td>\n",
       "      <td>False</td>\n",
       "      <td>False</td>\n",
       "      <td>False</td>\n",
       "      <td>False</td>\n",
       "      <td>False</td>\n",
       "      <td>False</td>\n",
       "      <td>False</td>\n",
       "      <td>False</td>\n",
       "      <td>False</td>\n",
       "      <td>False</td>\n",
       "      <td>True</td>\n",
       "      <td>True</td>\n",
       "      <td>True</td>\n",
       "      <td>False</td>\n",
       "      <td>False</td>\n",
       "      <td>False</td>\n",
       "      <td>False</td>\n",
       "      <td>True</td>\n",
       "      <td>False</td>\n",
       "      <td>False</td>\n",
       "      <td>False</td>\n",
       "      <td>False</td>\n",
       "      <td>False</td>\n",
       "      <td>False</td>\n",
       "      <td>False</td>\n",
       "      <td>False</td>\n",
       "      <td>False</td>\n",
       "      <td>False</td>\n",
       "      <td>False</td>\n",
       "      <td>False</td>\n",
       "      <td>False</td>\n",
       "      <td>False</td>\n",
       "      <td>False</td>\n",
       "    </tr>\n",
       "    <tr>\n",
       "      <th>3092349</th>\n",
       "      <td>False</td>\n",
       "      <td>False</td>\n",
       "      <td>False</td>\n",
       "      <td>False</td>\n",
       "      <td>False</td>\n",
       "      <td>False</td>\n",
       "      <td>False</td>\n",
       "      <td>False</td>\n",
       "      <td>False</td>\n",
       "      <td>False</td>\n",
       "      <td>False</td>\n",
       "      <td>False</td>\n",
       "      <td>False</td>\n",
       "      <td>False</td>\n",
       "      <td>False</td>\n",
       "      <td>False</td>\n",
       "      <td>False</td>\n",
       "      <td>False</td>\n",
       "      <td>False</td>\n",
       "      <td>True</td>\n",
       "      <td>True</td>\n",
       "      <td>True</td>\n",
       "      <td>False</td>\n",
       "      <td>False</td>\n",
       "      <td>False</td>\n",
       "      <td>False</td>\n",
       "      <td>True</td>\n",
       "      <td>False</td>\n",
       "      <td>False</td>\n",
       "      <td>True</td>\n",
       "      <td>False</td>\n",
       "      <td>False</td>\n",
       "      <td>False</td>\n",
       "      <td>False</td>\n",
       "      <td>False</td>\n",
       "      <td>False</td>\n",
       "      <td>False</td>\n",
       "      <td>False</td>\n",
       "      <td>False</td>\n",
       "      <td>False</td>\n",
       "      <td>False</td>\n",
       "      <td>False</td>\n",
       "    </tr>\n",
       "    <tr>\n",
       "      <th>3092350</th>\n",
       "      <td>False</td>\n",
       "      <td>False</td>\n",
       "      <td>False</td>\n",
       "      <td>False</td>\n",
       "      <td>False</td>\n",
       "      <td>False</td>\n",
       "      <td>True</td>\n",
       "      <td>True</td>\n",
       "      <td>True</td>\n",
       "      <td>False</td>\n",
       "      <td>False</td>\n",
       "      <td>False</td>\n",
       "      <td>False</td>\n",
       "      <td>False</td>\n",
       "      <td>False</td>\n",
       "      <td>False</td>\n",
       "      <td>False</td>\n",
       "      <td>False</td>\n",
       "      <td>False</td>\n",
       "      <td>True</td>\n",
       "      <td>True</td>\n",
       "      <td>True</td>\n",
       "      <td>False</td>\n",
       "      <td>False</td>\n",
       "      <td>False</td>\n",
       "      <td>False</td>\n",
       "      <td>True</td>\n",
       "      <td>False</td>\n",
       "      <td>False</td>\n",
       "      <td>False</td>\n",
       "      <td>False</td>\n",
       "      <td>False</td>\n",
       "      <td>False</td>\n",
       "      <td>False</td>\n",
       "      <td>False</td>\n",
       "      <td>False</td>\n",
       "      <td>False</td>\n",
       "      <td>False</td>\n",
       "      <td>False</td>\n",
       "      <td>False</td>\n",
       "      <td>False</td>\n",
       "      <td>False</td>\n",
       "    </tr>\n",
       "  </tbody>\n",
       "</table>\n",
       "<p>3092351 rows × 42 columns</p>\n",
       "</div>"
      ],
      "text/plain": [
       "         raw_row_number   date   time  location    lat    lng  precinct  \\\n",
       "0                 False  False   True     False  False  False     False   \n",
       "1                 False  False  False     False  False  False     False   \n",
       "2                 False  False  False     False  False  False     False   \n",
       "3                 False  False  False     False  False  False     False   \n",
       "4                 False  False  False     False  False  False      True   \n",
       "...                 ...    ...    ...       ...    ...    ...       ...   \n",
       "3092346           False  False  False     False  False  False     False   \n",
       "3092347           False  False  False     False   True   True      True   \n",
       "3092348           False  False  False     False  False  False     False   \n",
       "3092349           False  False  False     False  False  False     False   \n",
       "3092350           False  False  False     False  False  False      True   \n",
       "\n",
       "         reporting_area   zone  subject_age  subject_race  subject_sex  \\\n",
       "0                 False  False        False         False        False   \n",
       "1                 False  False        False         False        False   \n",
       "2                 False  False        False         False        False   \n",
       "3                 False  False        False         False        False   \n",
       "4                  True   True        False         False        False   \n",
       "...                 ...    ...          ...           ...          ...   \n",
       "3092346           False  False        False         False        False   \n",
       "3092347            True   True        False         False        False   \n",
       "3092348           False  False        False         False        False   \n",
       "3092349           False  False        False         False        False   \n",
       "3092350            True   True        False         False        False   \n",
       "\n",
       "         officer_id_hash   type  violation  arrest_made  citation_issued  \\\n",
       "0                  False  False      False        False            False   \n",
       "1                  False  False      False        False            False   \n",
       "2                  False  False      False        False            False   \n",
       "3                  False  False      False        False            False   \n",
       "4                  False  False      False        False            False   \n",
       "...                  ...    ...        ...          ...              ...   \n",
       "3092346            False  False      False        False            False   \n",
       "3092347            False  False      False        False            False   \n",
       "3092348            False  False      False        False            False   \n",
       "3092349            False  False      False        False            False   \n",
       "3092350            False  False      False        False            False   \n",
       "\n",
       "         warning_issued  outcome  contraband_found  contraband_drugs  \\\n",
       "0                 False    False              True              True   \n",
       "1                 False    False              True              True   \n",
       "2                 False    False              True              True   \n",
       "3                 False    False              True              True   \n",
       "4                 False    False             False             False   \n",
       "...                 ...      ...               ...               ...   \n",
       "3092346           False    False              True              True   \n",
       "3092347           False    False              True              True   \n",
       "3092348           False    False              True              True   \n",
       "3092349           False    False              True              True   \n",
       "3092350           False    False              True              True   \n",
       "\n",
       "         contraband_weapons  frisk_performed  search_conducted  search_person  \\\n",
       "0                      True            False             False          False   \n",
       "1                      True            False             False          False   \n",
       "2                      True            False             False          False   \n",
       "3                      True            False             False          False   \n",
       "4                     False            False             False          False   \n",
       "...                     ...              ...               ...            ...   \n",
       "3092346                True            False             False          False   \n",
       "3092347                True            False             False          False   \n",
       "3092348                True            False             False          False   \n",
       "3092349                True            False             False          False   \n",
       "3092350                True            False             False          False   \n",
       "\n",
       "         search_vehicle  search_basis  reason_for_stop  \\\n",
       "0                 False          True            False   \n",
       "1                 False          True            False   \n",
       "2                 False          True            False   \n",
       "3                 False          True            False   \n",
       "4                 False         False            False   \n",
       "...                 ...           ...              ...   \n",
       "3092346           False          True            False   \n",
       "3092347           False          True            False   \n",
       "3092348           False          True            False   \n",
       "3092349           False          True            False   \n",
       "3092350           False          True            False   \n",
       "\n",
       "         vehicle_registration_state  notes  raw_verbal_warning_issued  \\\n",
       "0                             False   True                      False   \n",
       "1                             False   True                      False   \n",
       "2                             False   True                      False   \n",
       "3                             False   True                      False   \n",
       "4                             False   True                      False   \n",
       "...                             ...    ...                        ...   \n",
       "3092346                       False   True                      False   \n",
       "3092347                       False   True                      False   \n",
       "3092348                       False  False                      False   \n",
       "3092349                       False   True                      False   \n",
       "3092350                       False  False                      False   \n",
       "\n",
       "         raw_written_warning_issued  raw_traffic_citation_issued  \\\n",
       "0                             False                        False   \n",
       "1                             False                        False   \n",
       "2                             False                        False   \n",
       "3                             False                        False   \n",
       "4                             False                        False   \n",
       "...                             ...                          ...   \n",
       "3092346                       False                        False   \n",
       "3092347                       False                        False   \n",
       "3092348                       False                        False   \n",
       "3092349                       False                        False   \n",
       "3092350                       False                        False   \n",
       "\n",
       "         raw_misd_state_citation_issued  raw_suspect_ethnicity  \\\n",
       "0                                  True                  False   \n",
       "1                                  True                  False   \n",
       "2                                  True                  False   \n",
       "3                                  True                  False   \n",
       "4                                  True                  False   \n",
       "...                                 ...                    ...   \n",
       "3092346                           False                  False   \n",
       "3092347                           False                  False   \n",
       "3092348                           False                  False   \n",
       "3092349                           False                  False   \n",
       "3092350                           False                  False   \n",
       "\n",
       "         raw_driver_searched  raw_passenger_searched  raw_search_consent  \\\n",
       "0                      False                   False               False   \n",
       "1                      False                   False               False   \n",
       "2                      False                   False               False   \n",
       "3                      False                   False               False   \n",
       "4                      False                   False               False   \n",
       "...                      ...                     ...                 ...   \n",
       "3092346                False                   False               False   \n",
       "3092347                False                   False               False   \n",
       "3092348                False                   False               False   \n",
       "3092349                False                   False               False   \n",
       "3092350                False                   False               False   \n",
       "\n",
       "         raw_search_arrest  raw_search_warrant  raw_search_inventory  \\\n",
       "0                    False               False                 False   \n",
       "1                    False               False                 False   \n",
       "2                    False               False                 False   \n",
       "3                    False               False                 False   \n",
       "4                    False               False                 False   \n",
       "...                    ...                 ...                   ...   \n",
       "3092346              False               False                 False   \n",
       "3092347              False               False                 False   \n",
       "3092348              False               False                 False   \n",
       "3092349              False               False                 False   \n",
       "3092350              False               False                 False   \n",
       "\n",
       "         raw_search_plain_view  \n",
       "0                        False  \n",
       "1                        False  \n",
       "2                        False  \n",
       "3                        False  \n",
       "4                        False  \n",
       "...                        ...  \n",
       "3092346                  False  \n",
       "3092347                  False  \n",
       "3092348                  False  \n",
       "3092349                  False  \n",
       "3092350                  False  \n",
       "\n",
       "[3092351 rows x 42 columns]"
      ]
     },
     "execution_count": 2,
     "metadata": {},
     "output_type": "execute_result"
    }
   ],
   "source": [
    "df.isnull()"
   ]
  },
  {
   "cell_type": "markdown",
   "metadata": {},
   "source": [
    "### Count the number of missing values in each column"
   ]
  },
  {
   "cell_type": "code",
   "execution_count": 3,
   "metadata": {},
   "outputs": [
    {
     "data": {
      "text/plain": [
       "raw_row_number                          0\n",
       "date                                    0\n",
       "time                                 5467\n",
       "location                                0\n",
       "lat                                187106\n",
       "lng                                187106\n",
       "precinct                           390222\n",
       "reporting_area                     332393\n",
       "zone                               390222\n",
       "subject_age                           839\n",
       "subject_race                         1850\n",
       "subject_sex                         12822\n",
       "officer_id_hash                        11\n",
       "type                                    0\n",
       "violation                            8020\n",
       "arrest_made                            28\n",
       "citation_issued                       320\n",
       "warning_issued                        337\n",
       "outcome                              1935\n",
       "contraband_found                  2964646\n",
       "contraband_drugs                  2964646\n",
       "contraband_weapons                2964646\n",
       "frisk_performed                        22\n",
       "search_conducted                       39\n",
       "search_person                          43\n",
       "search_vehicle                         41\n",
       "search_basis                      2964646\n",
       "reason_for_stop                      8020\n",
       "vehicle_registration_state          31791\n",
       "notes                             2579696\n",
       "raw_verbal_warning_issued             337\n",
       "raw_written_warning_issued         493091\n",
       "raw_traffic_citation_issued           321\n",
       "raw_misd_state_citation_issued     693814\n",
       "raw_suspect_ethnicity                  77\n",
       "raw_driver_searched                    30\n",
       "raw_passenger_searched                  9\n",
       "raw_search_consent                     21\n",
       "raw_search_arrest                      13\n",
       "raw_search_warrant                      0\n",
       "raw_search_inventory                    2\n",
       "raw_search_plain_view                   7\n",
       "dtype: int64"
      ]
     },
     "execution_count": 3,
     "metadata": {},
     "output_type": "execute_result"
    }
   ],
   "source": [
    "df.isnull().sum()"
   ]
  },
  {
   "cell_type": "markdown",
   "metadata": {},
   "source": [
    "### Look at how many rows and columns in the dataset"
   ]
  },
  {
   "cell_type": "code",
   "execution_count": 4,
   "metadata": {},
   "outputs": [
    {
     "data": {
      "text/plain": [
       "(3092351, 42)"
      ]
     },
     "execution_count": 4,
     "metadata": {},
     "output_type": "execute_result"
    }
   ],
   "source": [
    "df.shape"
   ]
  },
  {
   "cell_type": "markdown",
   "metadata": {},
   "source": [
    "### dropping columns with most null values"
   ]
  },
  {
   "cell_type": "code",
   "execution_count": 5,
   "metadata": {},
   "outputs": [],
   "source": [
    "\n",
    "df.drop(['contraband_found', 'contraband_drugs', 'contraband_weapons','search_basis', 'notes'], axis='columns', inplace=True)\n"
   ]
  },
  {
   "cell_type": "markdown",
   "metadata": {},
   "source": [
    "### Dropping rows based on presence of missing values"
   ]
  },
  {
   "cell_type": "code",
   "execution_count": 6,
   "metadata": {},
   "outputs": [],
   "source": [
    "df.dropna(subset=['time', 'subject_sex', 'subject_race', 'subject_age'], inplace=True)"
   ]
  },
  {
   "cell_type": "markdown",
   "metadata": {},
   "source": [
    "### Checking the data types of each column"
   ]
  },
  {
   "cell_type": "code",
   "execution_count": 7,
   "metadata": {
    "scrolled": true
   },
   "outputs": [
    {
     "data": {
      "text/plain": [
       "raw_row_number                     object\n",
       "date                               object\n",
       "time                               object\n",
       "location                           object\n",
       "lat                               float64\n",
       "lng                               float64\n",
       "precinct                           object\n",
       "reporting_area                    float64\n",
       "zone                               object\n",
       "subject_age                       float64\n",
       "subject_race                       object\n",
       "subject_sex                        object\n",
       "officer_id_hash                    object\n",
       "type                               object\n",
       "violation                          object\n",
       "arrest_made                        object\n",
       "citation_issued                    object\n",
       "warning_issued                     object\n",
       "outcome                            object\n",
       "frisk_performed                    object\n",
       "search_conducted                   object\n",
       "search_person                      object\n",
       "search_vehicle                     object\n",
       "reason_for_stop                    object\n",
       "vehicle_registration_state         object\n",
       "raw_verbal_warning_issued          object\n",
       "raw_written_warning_issued         object\n",
       "raw_traffic_citation_issued        object\n",
       "raw_misd_state_citation_issued     object\n",
       "raw_suspect_ethnicity              object\n",
       "raw_driver_searched                object\n",
       "raw_passenger_searched             object\n",
       "raw_search_consent                 object\n",
       "raw_search_arrest                  object\n",
       "raw_search_warrant                   bool\n",
       "raw_search_inventory               object\n",
       "raw_search_plain_view              object\n",
       "dtype: object"
      ]
     },
     "execution_count": 7,
     "metadata": {},
     "output_type": "execute_result"
    }
   ],
   "source": [
    "\n",
    "df.dtypes"
   ]
  },
  {
   "cell_type": "markdown",
   "metadata": {},
   "source": [
    "## Fixing data types"
   ]
  },
  {
   "cell_type": "code",
   "execution_count": 8,
   "metadata": {},
   "outputs": [],
   "source": [
    "# fixing raw_search_arrest\n",
    "df['raw_search_arrest'] = df.raw_search_arrest.astype('bool')"
   ]
  },
  {
   "cell_type": "code",
   "execution_count": 9,
   "metadata": {},
   "outputs": [
    {
     "data": {
      "text/plain": [
       "dtype('bool')"
      ]
     },
     "execution_count": 9,
     "metadata": {},
     "output_type": "execute_result"
    }
   ],
   "source": [
    "# checking the dtypes of arrest\n",
    "df.raw_search_arrest.dtypes"
   ]
  },
  {
   "cell_type": "markdown",
   "metadata": {},
   "source": [
    "### combining objects columns"
   ]
  },
  {
   "cell_type": "code",
   "execution_count": 10,
   "metadata": {},
   "outputs": [],
   "source": [
    "\n",
    "combined = df.date.str.cat(df.time, sep=' ')"
   ]
  },
  {
   "cell_type": "markdown",
   "metadata": {},
   "source": [
    "### converting to datetime format"
   ]
  },
  {
   "cell_type": "code",
   "execution_count": 11,
   "metadata": {},
   "outputs": [],
   "source": [
    "\n",
    "df['date_and_time'] = pd.to_datetime(combined)"
   ]
  },
  {
   "cell_type": "code",
   "execution_count": 12,
   "metadata": {},
   "outputs": [
    {
     "name": "stdout",
     "output_type": "stream",
     "text": [
      "datetime64[ns]\n"
     ]
    }
   ],
   "source": [
    "print(df.date_and_time.dtypes)"
   ]
  },
  {
   "cell_type": "markdown",
   "metadata": {},
   "source": [
    "### setting the datetime as Index"
   ]
  },
  {
   "cell_type": "code",
   "execution_count": 13,
   "metadata": {},
   "outputs": [],
   "source": [
    "\n",
    "df.set_index('date_and_time', inplace=True)"
   ]
  },
  {
   "cell_type": "code",
   "execution_count": 14,
   "metadata": {},
   "outputs": [
    {
     "data": {
      "text/html": [
       "<div>\n",
       "<style scoped>\n",
       "    .dataframe tbody tr th:only-of-type {\n",
       "        vertical-align: middle;\n",
       "    }\n",
       "\n",
       "    .dataframe tbody tr th {\n",
       "        vertical-align: top;\n",
       "    }\n",
       "\n",
       "    .dataframe thead th {\n",
       "        text-align: right;\n",
       "    }\n",
       "</style>\n",
       "<table border=\"1\" class=\"dataframe\">\n",
       "  <thead>\n",
       "    <tr style=\"text-align: right;\">\n",
       "      <th></th>\n",
       "      <th>raw_row_number</th>\n",
       "      <th>date</th>\n",
       "      <th>time</th>\n",
       "      <th>location</th>\n",
       "      <th>lat</th>\n",
       "      <th>lng</th>\n",
       "      <th>precinct</th>\n",
       "      <th>reporting_area</th>\n",
       "      <th>zone</th>\n",
       "      <th>subject_age</th>\n",
       "      <th>subject_race</th>\n",
       "      <th>subject_sex</th>\n",
       "      <th>officer_id_hash</th>\n",
       "      <th>type</th>\n",
       "      <th>violation</th>\n",
       "      <th>arrest_made</th>\n",
       "      <th>citation_issued</th>\n",
       "      <th>warning_issued</th>\n",
       "      <th>outcome</th>\n",
       "      <th>frisk_performed</th>\n",
       "      <th>search_conducted</th>\n",
       "      <th>search_person</th>\n",
       "      <th>search_vehicle</th>\n",
       "      <th>reason_for_stop</th>\n",
       "      <th>vehicle_registration_state</th>\n",
       "      <th>raw_verbal_warning_issued</th>\n",
       "      <th>raw_written_warning_issued</th>\n",
       "      <th>raw_traffic_citation_issued</th>\n",
       "      <th>raw_misd_state_citation_issued</th>\n",
       "      <th>raw_suspect_ethnicity</th>\n",
       "      <th>raw_driver_searched</th>\n",
       "      <th>raw_passenger_searched</th>\n",
       "      <th>raw_search_consent</th>\n",
       "      <th>raw_search_arrest</th>\n",
       "      <th>raw_search_warrant</th>\n",
       "      <th>raw_search_inventory</th>\n",
       "      <th>raw_search_plain_view</th>\n",
       "    </tr>\n",
       "    <tr>\n",
       "      <th>date_and_time</th>\n",
       "      <th></th>\n",
       "      <th></th>\n",
       "      <th></th>\n",
       "      <th></th>\n",
       "      <th></th>\n",
       "      <th></th>\n",
       "      <th></th>\n",
       "      <th></th>\n",
       "      <th></th>\n",
       "      <th></th>\n",
       "      <th></th>\n",
       "      <th></th>\n",
       "      <th></th>\n",
       "      <th></th>\n",
       "      <th></th>\n",
       "      <th></th>\n",
       "      <th></th>\n",
       "      <th></th>\n",
       "      <th></th>\n",
       "      <th></th>\n",
       "      <th></th>\n",
       "      <th></th>\n",
       "      <th></th>\n",
       "      <th></th>\n",
       "      <th></th>\n",
       "      <th></th>\n",
       "      <th></th>\n",
       "      <th></th>\n",
       "      <th></th>\n",
       "      <th></th>\n",
       "      <th></th>\n",
       "      <th></th>\n",
       "      <th></th>\n",
       "      <th></th>\n",
       "      <th></th>\n",
       "      <th></th>\n",
       "      <th></th>\n",
       "    </tr>\n",
       "  </thead>\n",
       "  <tbody>\n",
       "    <tr>\n",
       "      <th>2010-10-10 10:00:00</th>\n",
       "      <td>237161</td>\n",
       "      <td>2010-10-10</td>\n",
       "      <td>10:00:00</td>\n",
       "      <td>1122 LEBANON PIKE, NASHVILLE, TN, 37210</td>\n",
       "      <td>36.155521</td>\n",
       "      <td>-86.735902</td>\n",
       "      <td>5</td>\n",
       "      <td>9035.0</td>\n",
       "      <td>513</td>\n",
       "      <td>18.0</td>\n",
       "      <td>white</td>\n",
       "      <td>male</td>\n",
       "      <td>a983204b21</td>\n",
       "      <td>vehicular</td>\n",
       "      <td>moving traffic violation</td>\n",
       "      <td>False</td>\n",
       "      <td>True</td>\n",
       "      <td>False</td>\n",
       "      <td>citation</td>\n",
       "      <td>False</td>\n",
       "      <td>False</td>\n",
       "      <td>False</td>\n",
       "      <td>False</td>\n",
       "      <td>moving traffic violation</td>\n",
       "      <td>TN</td>\n",
       "      <td>False</td>\n",
       "      <td>False</td>\n",
       "      <td>True</td>\n",
       "      <td>NaN</td>\n",
       "      <td>N</td>\n",
       "      <td>False</td>\n",
       "      <td>False</td>\n",
       "      <td>False</td>\n",
       "      <td>False</td>\n",
       "      <td>False</td>\n",
       "      <td>False</td>\n",
       "      <td>False</td>\n",
       "    </tr>\n",
       "    <tr>\n",
       "      <th>2010-10-10 10:00:00</th>\n",
       "      <td>232902</td>\n",
       "      <td>2010-10-10</td>\n",
       "      <td>10:00:00</td>\n",
       "      <td>898 DAVIDSON DR, , TN, 37205</td>\n",
       "      <td>36.117420</td>\n",
       "      <td>-86.895593</td>\n",
       "      <td>1</td>\n",
       "      <td>5005.0</td>\n",
       "      <td>121</td>\n",
       "      <td>52.0</td>\n",
       "      <td>white</td>\n",
       "      <td>male</td>\n",
       "      <td>f5d8fbd78b</td>\n",
       "      <td>vehicular</td>\n",
       "      <td>vehicle equipment violation</td>\n",
       "      <td>False</td>\n",
       "      <td>False</td>\n",
       "      <td>True</td>\n",
       "      <td>warning</td>\n",
       "      <td>False</td>\n",
       "      <td>False</td>\n",
       "      <td>False</td>\n",
       "      <td>False</td>\n",
       "      <td>vehicle equipment violation</td>\n",
       "      <td>TN</td>\n",
       "      <td>True</td>\n",
       "      <td>False</td>\n",
       "      <td>False</td>\n",
       "      <td>NaN</td>\n",
       "      <td>N</td>\n",
       "      <td>False</td>\n",
       "      <td>False</td>\n",
       "      <td>False</td>\n",
       "      <td>False</td>\n",
       "      <td>False</td>\n",
       "      <td>False</td>\n",
       "      <td>False</td>\n",
       "    </tr>\n",
       "    <tr>\n",
       "      <th>2010-10-10 22:00:00</th>\n",
       "      <td>233219</td>\n",
       "      <td>2010-10-10</td>\n",
       "      <td>22:00:00</td>\n",
       "      <td>MURFREESBORO PIKE &amp; NASHBORO BLVD, ANTIOCH, TN...</td>\n",
       "      <td>36.086799</td>\n",
       "      <td>-86.648581</td>\n",
       "      <td>3</td>\n",
       "      <td>8891.0</td>\n",
       "      <td>325</td>\n",
       "      <td>25.0</td>\n",
       "      <td>white</td>\n",
       "      <td>male</td>\n",
       "      <td>4f1d028e45</td>\n",
       "      <td>vehicular</td>\n",
       "      <td>registration</td>\n",
       "      <td>False</td>\n",
       "      <td>False</td>\n",
       "      <td>True</td>\n",
       "      <td>warning</td>\n",
       "      <td>False</td>\n",
       "      <td>False</td>\n",
       "      <td>False</td>\n",
       "      <td>False</td>\n",
       "      <td>registration</td>\n",
       "      <td>TN</td>\n",
       "      <td>True</td>\n",
       "      <td>False</td>\n",
       "      <td>False</td>\n",
       "      <td>NaN</td>\n",
       "      <td>N</td>\n",
       "      <td>False</td>\n",
       "      <td>False</td>\n",
       "      <td>False</td>\n",
       "      <td>False</td>\n",
       "      <td>False</td>\n",
       "      <td>False</td>\n",
       "      <td>False</td>\n",
       "    </tr>\n",
       "    <tr>\n",
       "      <th>2010-10-10 01:00:00</th>\n",
       "      <td>232780</td>\n",
       "      <td>2010-10-10</td>\n",
       "      <td>01:00:00</td>\n",
       "      <td>BUCHANAN ST, NORTH, TN, 37208</td>\n",
       "      <td>36.180038</td>\n",
       "      <td>-86.809109</td>\n",
       "      <td>NaN</td>\n",
       "      <td>NaN</td>\n",
       "      <td>NaN</td>\n",
       "      <td>21.0</td>\n",
       "      <td>black</td>\n",
       "      <td>male</td>\n",
       "      <td>0f0e6b7d67</td>\n",
       "      <td>vehicular</td>\n",
       "      <td>vehicle equipment violation</td>\n",
       "      <td>False</td>\n",
       "      <td>False</td>\n",
       "      <td>True</td>\n",
       "      <td>warning</td>\n",
       "      <td>False</td>\n",
       "      <td>True</td>\n",
       "      <td>True</td>\n",
       "      <td>True</td>\n",
       "      <td>vehicle equipment violation</td>\n",
       "      <td>TN</td>\n",
       "      <td>True</td>\n",
       "      <td>False</td>\n",
       "      <td>False</td>\n",
       "      <td>NaN</td>\n",
       "      <td>N</td>\n",
       "      <td>True</td>\n",
       "      <td>True</td>\n",
       "      <td>False</td>\n",
       "      <td>False</td>\n",
       "      <td>False</td>\n",
       "      <td>False</td>\n",
       "      <td>False</td>\n",
       "    </tr>\n",
       "    <tr>\n",
       "      <th>2010-10-10 01:00:00</th>\n",
       "      <td>232748</td>\n",
       "      <td>2010-10-10</td>\n",
       "      <td>01:00:00</td>\n",
       "      <td>N GALLATIN PIKE &amp; EDENWOLD RD, MADISON, TN, 37115</td>\n",
       "      <td>36.286844</td>\n",
       "      <td>-86.705395</td>\n",
       "      <td>7</td>\n",
       "      <td>1757.0</td>\n",
       "      <td>727</td>\n",
       "      <td>26.0</td>\n",
       "      <td>white</td>\n",
       "      <td>female</td>\n",
       "      <td>5a96851d64</td>\n",
       "      <td>vehicular</td>\n",
       "      <td>moving traffic violation</td>\n",
       "      <td>False</td>\n",
       "      <td>False</td>\n",
       "      <td>True</td>\n",
       "      <td>warning</td>\n",
       "      <td>False</td>\n",
       "      <td>False</td>\n",
       "      <td>False</td>\n",
       "      <td>False</td>\n",
       "      <td>moving traffic violation</td>\n",
       "      <td>TN</td>\n",
       "      <td>True</td>\n",
       "      <td>False</td>\n",
       "      <td>False</td>\n",
       "      <td>NaN</td>\n",
       "      <td>N</td>\n",
       "      <td>False</td>\n",
       "      <td>False</td>\n",
       "      <td>False</td>\n",
       "      <td>False</td>\n",
       "      <td>False</td>\n",
       "      <td>False</td>\n",
       "      <td>False</td>\n",
       "    </tr>\n",
       "  </tbody>\n",
       "</table>\n",
       "</div>"
      ],
      "text/plain": [
       "                    raw_row_number        date      time  \\\n",
       "date_and_time                                              \n",
       "2010-10-10 10:00:00         237161  2010-10-10  10:00:00   \n",
       "2010-10-10 10:00:00         232902  2010-10-10  10:00:00   \n",
       "2010-10-10 22:00:00         233219  2010-10-10  22:00:00   \n",
       "2010-10-10 01:00:00         232780  2010-10-10  01:00:00   \n",
       "2010-10-10 01:00:00         232748  2010-10-10  01:00:00   \n",
       "\n",
       "                                                              location  \\\n",
       "date_and_time                                                            \n",
       "2010-10-10 10:00:00            1122 LEBANON PIKE, NASHVILLE, TN, 37210   \n",
       "2010-10-10 10:00:00                       898 DAVIDSON DR, , TN, 37205   \n",
       "2010-10-10 22:00:00  MURFREESBORO PIKE & NASHBORO BLVD, ANTIOCH, TN...   \n",
       "2010-10-10 01:00:00                      BUCHANAN ST, NORTH, TN, 37208   \n",
       "2010-10-10 01:00:00  N GALLATIN PIKE & EDENWOLD RD, MADISON, TN, 37115   \n",
       "\n",
       "                           lat        lng precinct  reporting_area zone  \\\n",
       "date_and_time                                                             \n",
       "2010-10-10 10:00:00  36.155521 -86.735902        5          9035.0  513   \n",
       "2010-10-10 10:00:00  36.117420 -86.895593        1          5005.0  121   \n",
       "2010-10-10 22:00:00  36.086799 -86.648581        3          8891.0  325   \n",
       "2010-10-10 01:00:00  36.180038 -86.809109      NaN             NaN  NaN   \n",
       "2010-10-10 01:00:00  36.286844 -86.705395        7          1757.0  727   \n",
       "\n",
       "                     subject_age subject_race subject_sex officer_id_hash  \\\n",
       "date_and_time                                                               \n",
       "2010-10-10 10:00:00         18.0        white        male      a983204b21   \n",
       "2010-10-10 10:00:00         52.0        white        male      f5d8fbd78b   \n",
       "2010-10-10 22:00:00         25.0        white        male      4f1d028e45   \n",
       "2010-10-10 01:00:00         21.0        black        male      0f0e6b7d67   \n",
       "2010-10-10 01:00:00         26.0        white      female      5a96851d64   \n",
       "\n",
       "                          type                    violation arrest_made  \\\n",
       "date_and_time                                                             \n",
       "2010-10-10 10:00:00  vehicular     moving traffic violation       False   \n",
       "2010-10-10 10:00:00  vehicular  vehicle equipment violation       False   \n",
       "2010-10-10 22:00:00  vehicular                 registration       False   \n",
       "2010-10-10 01:00:00  vehicular  vehicle equipment violation       False   \n",
       "2010-10-10 01:00:00  vehicular     moving traffic violation       False   \n",
       "\n",
       "                    citation_issued warning_issued   outcome frisk_performed  \\\n",
       "date_and_time                                                                  \n",
       "2010-10-10 10:00:00            True          False  citation           False   \n",
       "2010-10-10 10:00:00           False           True   warning           False   \n",
       "2010-10-10 22:00:00           False           True   warning           False   \n",
       "2010-10-10 01:00:00           False           True   warning           False   \n",
       "2010-10-10 01:00:00           False           True   warning           False   \n",
       "\n",
       "                    search_conducted search_person search_vehicle  \\\n",
       "date_and_time                                                       \n",
       "2010-10-10 10:00:00            False         False          False   \n",
       "2010-10-10 10:00:00            False         False          False   \n",
       "2010-10-10 22:00:00            False         False          False   \n",
       "2010-10-10 01:00:00             True          True           True   \n",
       "2010-10-10 01:00:00            False         False          False   \n",
       "\n",
       "                                 reason_for_stop vehicle_registration_state  \\\n",
       "date_and_time                                                                 \n",
       "2010-10-10 10:00:00     moving traffic violation                         TN   \n",
       "2010-10-10 10:00:00  vehicle equipment violation                         TN   \n",
       "2010-10-10 22:00:00                 registration                         TN   \n",
       "2010-10-10 01:00:00  vehicle equipment violation                         TN   \n",
       "2010-10-10 01:00:00     moving traffic violation                         TN   \n",
       "\n",
       "                    raw_verbal_warning_issued raw_written_warning_issued  \\\n",
       "date_and_time                                                              \n",
       "2010-10-10 10:00:00                     False                      False   \n",
       "2010-10-10 10:00:00                      True                      False   \n",
       "2010-10-10 22:00:00                      True                      False   \n",
       "2010-10-10 01:00:00                      True                      False   \n",
       "2010-10-10 01:00:00                      True                      False   \n",
       "\n",
       "                    raw_traffic_citation_issued  \\\n",
       "date_and_time                                     \n",
       "2010-10-10 10:00:00                        True   \n",
       "2010-10-10 10:00:00                       False   \n",
       "2010-10-10 22:00:00                       False   \n",
       "2010-10-10 01:00:00                       False   \n",
       "2010-10-10 01:00:00                       False   \n",
       "\n",
       "                    raw_misd_state_citation_issued raw_suspect_ethnicity  \\\n",
       "date_and_time                                                              \n",
       "2010-10-10 10:00:00                            NaN                     N   \n",
       "2010-10-10 10:00:00                            NaN                     N   \n",
       "2010-10-10 22:00:00                            NaN                     N   \n",
       "2010-10-10 01:00:00                            NaN                     N   \n",
       "2010-10-10 01:00:00                            NaN                     N   \n",
       "\n",
       "                    raw_driver_searched raw_passenger_searched  \\\n",
       "date_and_time                                                    \n",
       "2010-10-10 10:00:00               False                  False   \n",
       "2010-10-10 10:00:00               False                  False   \n",
       "2010-10-10 22:00:00               False                  False   \n",
       "2010-10-10 01:00:00                True                   True   \n",
       "2010-10-10 01:00:00               False                  False   \n",
       "\n",
       "                    raw_search_consent  raw_search_arrest  raw_search_warrant  \\\n",
       "date_and_time                                                                   \n",
       "2010-10-10 10:00:00              False              False               False   \n",
       "2010-10-10 10:00:00              False              False               False   \n",
       "2010-10-10 22:00:00              False              False               False   \n",
       "2010-10-10 01:00:00              False              False               False   \n",
       "2010-10-10 01:00:00              False              False               False   \n",
       "\n",
       "                    raw_search_inventory raw_search_plain_view  \n",
       "date_and_time                                                   \n",
       "2010-10-10 10:00:00                False                 False  \n",
       "2010-10-10 10:00:00                False                 False  \n",
       "2010-10-10 22:00:00                False                 False  \n",
       "2010-10-10 01:00:00                False                 False  \n",
       "2010-10-10 01:00:00                False                 False  "
      ]
     },
     "execution_count": 14,
     "metadata": {},
     "output_type": "execute_result"
    }
   ],
   "source": [
    "df.head(5)"
   ]
  },
  {
   "cell_type": "markdown",
   "metadata": {},
   "source": [
    "## Counting unique Values"
   ]
  },
  {
   "cell_type": "code",
   "execution_count": 15,
   "metadata": {},
   "outputs": [
    {
     "data": {
      "text/plain": [
       "warning     2343412\n",
       "citation     678140\n",
       "arrest        49863\n",
       "Name: outcome, dtype: int64"
      ]
     },
     "execution_count": 15,
     "metadata": {},
     "output_type": "execute_result"
    }
   ],
   "source": [
    "# counts of stop_outcomes\n",
    "df.outcome.value_counts()"
   ]
  },
  {
   "cell_type": "code",
   "execution_count": 16,
   "metadata": {},
   "outputs": [
    {
     "data": {
      "text/plain": [
       "3071415"
      ]
     },
     "execution_count": 16,
     "metadata": {},
     "output_type": "execute_result"
    }
   ],
   "source": [
    "# The sum of the stop outcomes is the same as the total rows in the dataset!\n",
    "df.outcome.value_counts().sum()"
   ]
  },
  {
   "cell_type": "code",
   "execution_count": 17,
   "metadata": {},
   "outputs": [
    {
     "data": {
      "text/plain": [
       "(3071751, 37)"
      ]
     },
     "execution_count": 17,
     "metadata": {},
     "output_type": "execute_result"
    }
   ],
   "source": [
    "df.shape"
   ]
  },
  {
   "cell_type": "code",
   "execution_count": 18,
   "metadata": {},
   "outputs": [
    {
     "data": {
      "text/plain": [
       "warning     0.762975\n",
       "citation    0.220791\n",
       "arrest      0.016235\n",
       "Name: outcome, dtype: float64"
      ]
     },
     "execution_count": 18,
     "metadata": {},
     "output_type": "execute_result"
    }
   ],
   "source": [
    "# Looking at stop_outcomes as proportion of the total\n",
    "df.outcome.value_counts(normalize=True)"
   ]
  },
  {
   "cell_type": "markdown",
   "metadata": {},
   "source": [
    "## Filtering dataframe rows"
   ]
  },
  {
   "cell_type": "code",
   "execution_count": 19,
   "metadata": {},
   "outputs": [
    {
     "data": {
      "text/plain": [
       "white                     1661931\n",
       "black                     1159570\n",
       "hispanic                   163966\n",
       "asian/pacific islander      41431\n",
       "unknown                     34525\n",
       "other                       10328\n",
       "Name: subject_race, dtype: int64"
      ]
     },
     "execution_count": 19,
     "metadata": {},
     "output_type": "execute_result"
    }
   ],
   "source": [
    "# find the value of each race\n",
    "df.subject_race.value_counts()"
   ]
  },
  {
   "cell_type": "markdown",
   "metadata": {},
   "source": [
    "#### Filtering to a particular race"
   ]
  },
  {
   "cell_type": "code",
   "execution_count": 20,
   "metadata": {},
   "outputs": [],
   "source": [
    "\n",
    "black = df[df.subject_race == 'black']"
   ]
  },
  {
   "cell_type": "code",
   "execution_count": 21,
   "metadata": {},
   "outputs": [],
   "source": [
    "white = df[df.subject_race == 'white']"
   ]
  },
  {
   "cell_type": "markdown",
   "metadata": {},
   "source": [
    "#### check stop_outcome for black drivers"
   ]
  },
  {
   "cell_type": "code",
   "execution_count": 22,
   "metadata": {},
   "outputs": [
    {
     "data": {
      "text/plain": [
       "warning     0.775077\n",
       "citation    0.202366\n",
       "arrest      0.022557\n",
       "Name: outcome, dtype: float64"
      ]
     },
     "execution_count": 22,
     "metadata": {},
     "output_type": "execute_result"
    }
   ],
   "source": [
    "# black drivers outcome\n",
    "black.outcome.value_counts(normalize=True)"
   ]
  },
  {
   "cell_type": "code",
   "execution_count": 23,
   "metadata": {},
   "outputs": [
    {
     "data": {
      "text/plain": [
       "warning     0.768867\n",
       "citation    0.220281\n",
       "arrest      0.010852\n",
       "Name: outcome, dtype: float64"
      ]
     },
     "execution_count": 23,
     "metadata": {},
     "output_type": "execute_result"
    }
   ],
   "source": [
    "# white drivers outcomes\n",
    "white.outcome.value_counts(normalize=True)"
   ]
  },
  {
   "cell_type": "markdown",
   "metadata": {},
   "source": [
    "###  Create a dataframe of female drivers"
   ]
  },
  {
   "cell_type": "code",
   "execution_count": 24,
   "metadata": {},
   "outputs": [],
   "source": [
    "\n",
    "female = df[df.subject_sex == 'female']"
   ]
  },
  {
   "cell_type": "code",
   "execution_count": 25,
   "metadata": {},
   "outputs": [
    {
     "data": {
      "text/plain": [
       "(1249571, 37)"
      ]
     },
     "execution_count": 25,
     "metadata": {},
     "output_type": "execute_result"
    }
   ],
   "source": [
    "female.shape"
   ]
  },
  {
   "cell_type": "markdown",
   "metadata": {},
   "source": [
    "## Find the value of each violation"
   ]
  },
  {
   "cell_type": "code",
   "execution_count": 26,
   "metadata": {},
   "outputs": [
    {
     "data": {
      "text/plain": [
       "moving traffic violation       1537063\n",
       "vehicle equipment violation     990022\n",
       "safety violation                184725\n",
       "registration                    184585\n",
       "seatbelt violation              102741\n",
       "investigative stop               56012\n",
       "parking violation                 7732\n",
       "child restraint                   1103\n",
       "Name: violation, dtype: int64"
      ]
     },
     "execution_count": 26,
     "metadata": {},
     "output_type": "execute_result"
    }
   ],
   "source": [
    "\n",
    "df.violation.value_counts()"
   ]
  },
  {
   "cell_type": "markdown",
   "metadata": {},
   "source": [
    "### Compute the violations by female drivers as proportions"
   ]
  },
  {
   "cell_type": "code",
   "execution_count": 27,
   "metadata": {},
   "outputs": [
    {
     "data": {
      "text/plain": [
       "moving traffic violation       0.506676\n",
       "vehicle equipment violation    0.325924\n",
       "registration                   0.061660\n",
       "safety violation               0.060163\n",
       "seatbelt violation             0.027185\n",
       "investigative stop             0.015419\n",
       "parking violation              0.002395\n",
       "child restraint                0.000578\n",
       "Name: violation, dtype: float64"
      ]
     },
     "execution_count": 27,
     "metadata": {},
     "output_type": "execute_result"
    }
   ],
   "source": [
    "\n",
    "female.violation.value_counts(normalize=True)"
   ]
  },
  {
   "cell_type": "markdown",
   "metadata": {},
   "source": [
    "### Create a dataframe of male drivers"
   ]
  },
  {
   "cell_type": "code",
   "execution_count": 28,
   "metadata": {},
   "outputs": [],
   "source": [
    "\n",
    "male = df[df.subject_sex == 'male']"
   ]
  },
  {
   "cell_type": "code",
   "execution_count": 29,
   "metadata": {},
   "outputs": [
    {
     "data": {
      "text/plain": [
       "(1822180, 37)"
      ]
     },
     "execution_count": 29,
     "metadata": {},
     "output_type": "execute_result"
    }
   ],
   "source": [
    "male.shape"
   ]
  },
  {
   "cell_type": "markdown",
   "metadata": {},
   "source": [
    "#### Compute the violations by male drivers as proportions"
   ]
  },
  {
   "cell_type": "code",
   "execution_count": 30,
   "metadata": {},
   "outputs": [
    {
     "data": {
      "text/plain": [
       "moving traffic violation       0.498211\n",
       "vehicle equipment violation    0.321190\n",
       "safety violation               0.060375\n",
       "registration                   0.059272\n",
       "seatbelt violation             0.037885\n",
       "investigative stop             0.020243\n",
       "parking violation              0.002612\n",
       "child restraint                0.000211\n",
       "Name: violation, dtype: float64"
      ]
     },
     "execution_count": 30,
     "metadata": {},
     "output_type": "execute_result"
    }
   ],
   "source": [
    "\n",
    "male.violation.value_counts(normalize=True)"
   ]
  },
  {
   "cell_type": "code",
   "execution_count": 121,
   "metadata": {},
   "outputs": [],
   "source": [
    "# Save the results\n",
    "male_violations_rate = male.violation.value_counts(normalize=True)"
   ]
  },
  {
   "cell_type": "code",
   "execution_count": 126,
   "metadata": {},
   "outputs": [
    {
     "data": {
      "image/png": "[encoded data removed]",
      "text/plain": [
       "<Figure size 432x288 with 1 Axes>"
      ]
     },
     "metadata": {
      "needs_background": "light"
     },
     "output_type": "display_data"
    }
   ],
   "source": [
    "# Create a line Plot for male arrested by race\n",
    "male_violations_rate.plot()\n",
    "\n",
    "# Labels\n",
    "plt.xlabel('Race')\n",
    "plt.ylabel('Violation Rate')\n",
    "plt.title('The Rate of Male Arrested by Violation')\n",
    "#plt.yticks(rotation=45)\n",
    "plt.xticks(rotation=90)\n",
    "# Show\n",
    "plt.show()"
   ]
  },
  {
   "cell_type": "code",
   "execution_count": null,
   "metadata": {},
   "outputs": [],
   "source": []
  },
  {
   "cell_type": "markdown",
   "metadata": {},
   "source": [
    "## Filtering by multiple conditions(ampersand: must meet both conditions)"
   ]
  },
  {
   "cell_type": "code",
   "execution_count": 31,
   "metadata": {},
   "outputs": [],
   "source": [
    "\n",
    "female_and_arrested = df[(df.subject_sex == 'female') & (df.arrest_made ==True)]"
   ]
  },
  {
   "cell_type": "code",
   "execution_count": 32,
   "metadata": {},
   "outputs": [
    {
     "data": {
      "text/plain": [
       "(13326, 37)"
      ]
     },
     "execution_count": 32,
     "metadata": {},
     "output_type": "execute_result"
    }
   ],
   "source": [
    "female_and_arrested.shape"
   ]
  },
  {
   "cell_type": "code",
   "execution_count": 33,
   "metadata": {},
   "outputs": [
    {
     "data": {
      "text/plain": [
       "black                     0.528966\n",
       "white                     0.413778\n",
       "hispanic                  0.049977\n",
       "asian/pacific islander    0.003452\n",
       "unknown                   0.002176\n",
       "other                     0.001651\n",
       "Name: subject_race, dtype: float64"
      ]
     },
     "execution_count": 33,
     "metadata": {},
     "output_type": "execute_result"
    }
   ],
   "source": [
    "female_and_arrested.subject_race.value_counts(normalize=True)"
   ]
  },
  {
   "cell_type": "code",
   "execution_count": 34,
   "metadata": {},
   "outputs": [],
   "source": [
    "male_and_arested = df[(df.subject_sex == 'male') & (df.arrest_made == True)]"
   ]
  },
  {
   "cell_type": "code",
   "execution_count": 35,
   "metadata": {},
   "outputs": [
    {
     "data": {
      "text/plain": [
       "(36537, 37)"
      ]
     },
     "execution_count": 35,
     "metadata": {},
     "output_type": "execute_result"
    }
   ],
   "source": [
    "male_and_arested.shape"
   ]
  },
  {
   "cell_type": "code",
   "execution_count": 36,
   "metadata": {},
   "outputs": [
    {
     "data": {
      "text/plain": [
       "black                     0.522922\n",
       "white                     0.342639\n",
       "hispanic                  0.121329\n",
       "asian/pacific islander    0.006842\n",
       "unknown                   0.004379\n",
       "other                     0.001888\n",
       "Name: subject_race, dtype: float64"
      ]
     },
     "execution_count": 36,
     "metadata": {},
     "output_type": "execute_result"
    }
   ],
   "source": [
    "male_and_arested.subject_race.value_counts(normalize=True)"
   ]
  },
  {
   "cell_type": "code",
   "execution_count": 119,
   "metadata": {},
   "outputs": [
    {
     "data": {
      "text/html": [
       "<div>\n",
       "<style scoped>\n",
       "    .dataframe tbody tr th:only-of-type {\n",
       "        vertical-align: middle;\n",
       "    }\n",
       "\n",
       "    .dataframe tbody tr th {\n",
       "        vertical-align: top;\n",
       "    }\n",
       "\n",
       "    .dataframe thead th {\n",
       "        text-align: right;\n",
       "    }\n",
       "</style>\n",
       "<table border=\"1\" class=\"dataframe\">\n",
       "  <thead>\n",
       "    <tr style=\"text-align: right;\">\n",
       "      <th></th>\n",
       "      <th>lat</th>\n",
       "      <th>lng</th>\n",
       "      <th>reporting_area</th>\n",
       "      <th>subject_age</th>\n",
       "      <th>raw_search_arrest</th>\n",
       "      <th>raw_search_warrant</th>\n",
       "    </tr>\n",
       "    <tr>\n",
       "      <th>subject_race</th>\n",
       "      <th></th>\n",
       "      <th></th>\n",
       "      <th></th>\n",
       "      <th></th>\n",
       "      <th></th>\n",
       "      <th></th>\n",
       "    </tr>\n",
       "  </thead>\n",
       "  <tbody>\n",
       "    <tr>\n",
       "      <th>asian/pacific islander</th>\n",
       "      <td>36.122066</td>\n",
       "      <td>-86.731216</td>\n",
       "      <td>7530.431193</td>\n",
       "      <td>30.640000</td>\n",
       "      <td>0.652000</td>\n",
       "      <td>0.048000</td>\n",
       "    </tr>\n",
       "    <tr>\n",
       "      <th>black</th>\n",
       "      <td>36.167430</td>\n",
       "      <td>-86.762430</td>\n",
       "      <td>5556.469155</td>\n",
       "      <td>32.978802</td>\n",
       "      <td>0.608134</td>\n",
       "      <td>0.064796</td>\n",
       "    </tr>\n",
       "    <tr>\n",
       "      <th>hispanic</th>\n",
       "      <td>36.126549</td>\n",
       "      <td>-86.721555</td>\n",
       "      <td>8337.640641</td>\n",
       "      <td>28.016919</td>\n",
       "      <td>0.614482</td>\n",
       "      <td>0.029551</td>\n",
       "    </tr>\n",
       "    <tr>\n",
       "      <th>other</th>\n",
       "      <td>36.132901</td>\n",
       "      <td>-86.750344</td>\n",
       "      <td>6557.524590</td>\n",
       "      <td>28.275362</td>\n",
       "      <td>0.594203</td>\n",
       "      <td>0.072464</td>\n",
       "    </tr>\n",
       "    <tr>\n",
       "      <th>unknown</th>\n",
       "      <td>36.119732</td>\n",
       "      <td>-86.751304</td>\n",
       "      <td>6839.724138</td>\n",
       "      <td>26.387500</td>\n",
       "      <td>0.643750</td>\n",
       "      <td>0.031250</td>\n",
       "    </tr>\n",
       "    <tr>\n",
       "      <th>white</th>\n",
       "      <td>36.158576</td>\n",
       "      <td>-86.754369</td>\n",
       "      <td>6913.443009</td>\n",
       "      <td>34.299385</td>\n",
       "      <td>0.634875</td>\n",
       "      <td>0.052480</td>\n",
       "    </tr>\n",
       "  </tbody>\n",
       "</table>\n",
       "</div>"
      ],
      "text/plain": [
       "                              lat        lng  reporting_area  subject_age  \\\n",
       "subject_race                                                                \n",
       "asian/pacific islander  36.122066 -86.731216     7530.431193    30.640000   \n",
       "black                   36.167430 -86.762430     5556.469155    32.978802   \n",
       "hispanic                36.126549 -86.721555     8337.640641    28.016919   \n",
       "other                   36.132901 -86.750344     6557.524590    28.275362   \n",
       "unknown                 36.119732 -86.751304     6839.724138    26.387500   \n",
       "white                   36.158576 -86.754369     6913.443009    34.299385   \n",
       "\n",
       "                        raw_search_arrest  raw_search_warrant  \n",
       "subject_race                                                   \n",
       "asian/pacific islander           0.652000            0.048000  \n",
       "black                            0.608134            0.064796  \n",
       "hispanic                         0.614482            0.029551  \n",
       "other                            0.594203            0.072464  \n",
       "unknown                          0.643750            0.031250  \n",
       "white                            0.634875            0.052480  "
      ]
     },
     "execution_count": 119,
     "metadata": {},
     "output_type": "execute_result"
    }
   ],
   "source": [
    "male_and_arested.groupby('subject_race').mean()"
   ]
  },
  {
   "cell_type": "code",
   "execution_count": 113,
   "metadata": {},
   "outputs": [
    {
     "data": {
      "image/png": "[encoded data removed]",
      "text/plain": [
       "<Figure size 432x288 with 1 Axes>"
      ]
     },
     "metadata": {
      "needs_background": "light"
     },
     "output_type": "display_data"
    }
   ],
   "source": [
    "# Create a line Plot for male arrested by race\n",
    "male_and_arested.plot()\n",
    "\n",
    "# Labels\n",
    "plt.xlabel('Race')\n",
    "plt.ylabel('Arrested Rate')\n",
    "plt.title('The Rate of Male Arrested by Race')\n",
    "\n",
    "# Show\n",
    "plt.show()\n"
   ]
  },
  {
   "cell_type": "markdown",
   "metadata": {},
   "source": [
    "## Filtering by multiple conditions using pipe operator (iether/ or)"
   ]
  },
  {
   "cell_type": "code",
   "execution_count": 37,
   "metadata": {},
   "outputs": [],
   "source": [
    "\n",
    "female_or_arrested = df[(df.subject_sex == 'female') | (df.arrest_made == True)]"
   ]
  },
  {
   "cell_type": "code",
   "execution_count": 38,
   "metadata": {},
   "outputs": [
    {
     "data": {
      "text/plain": [
       "(1286108, 37)"
      ]
     },
     "execution_count": 38,
     "metadata": {},
     "output_type": "execute_result"
    }
   ],
   "source": [
    "female_or_arrested.shape"
   ]
  },
  {
   "cell_type": "code",
   "execution_count": 39,
   "metadata": {},
   "outputs": [],
   "source": [
    "male_or_arrested = df[(df.subject_sex == 'male') | (df.arrest_made == True)]"
   ]
  },
  {
   "cell_type": "code",
   "execution_count": 40,
   "metadata": {},
   "outputs": [
    {
     "data": {
      "text/plain": [
       "(1835506, 37)"
      ]
     },
     "execution_count": 40,
     "metadata": {},
     "output_type": "execute_result"
    }
   ],
   "source": [
    "male_or_arrested.shape"
   ]
  },
  {
   "cell_type": "markdown",
   "metadata": {},
   "source": [
    "### Create a DataFrame of female and male drivers stopped for speeding"
   ]
  },
  {
   "cell_type": "code",
   "execution_count": 41,
   "metadata": {},
   "outputs": [],
   "source": [
    "# females drivers stopped for speeding\n",
    "female_and_speeding = df[(df.subject_sex == 'female') & (df.violation == 'moving traffic violation') ]"
   ]
  },
  {
   "cell_type": "code",
   "execution_count": 42,
   "metadata": {},
   "outputs": [],
   "source": [
    "# male drivers stopped for speeding\n",
    "male_and_speeding = df[(df.subject_sex == 'male') & (df.violation == 'moving traffic violation') ]"
   ]
  },
  {
   "cell_type": "markdown",
   "metadata": {},
   "source": [
    "#### Compute the stop outcomes for female & male drivers (as proportions)"
   ]
  },
  {
   "cell_type": "code",
   "execution_count": 43,
   "metadata": {},
   "outputs": [
    {
     "data": {
      "text/plain": [
       "warning     0.685706\n",
       "citation    0.304963\n",
       "arrest      0.009331\n",
       "Name: outcome, dtype: float64"
      ]
     },
     "execution_count": 43,
     "metadata": {},
     "output_type": "execute_result"
    }
   ],
   "source": [
    "\n",
    "female_and_speeding.outcome.value_counts(normalize=True)"
   ]
  },
  {
   "cell_type": "code",
   "execution_count": 44,
   "metadata": {},
   "outputs": [
    {
     "data": {
      "text/plain": [
       "warning     0.671048\n",
       "citation    0.310454\n",
       "arrest      0.018498\n",
       "Name: outcome, dtype: float64"
      ]
     },
     "execution_count": 44,
     "metadata": {},
     "output_type": "execute_result"
    }
   ],
   "source": [
    "\n",
    "male_and_speeding.outcome.value_counts(normalize=True)"
   ]
  },
  {
   "cell_type": "markdown",
   "metadata": {},
   "source": [
    "#### value counts of arrested made"
   ]
  },
  {
   "cell_type": "code",
   "execution_count": 45,
   "metadata": {},
   "outputs": [
    {
     "data": {
      "text/plain": [
       "False    0.983767\n",
       "True     0.016233\n",
       "Name: arrest_made, dtype: float64"
      ]
     },
     "execution_count": 45,
     "metadata": {},
     "output_type": "execute_result"
    }
   ],
   "source": [
    "\n",
    "df.arrest_made.value_counts(normalize=True)"
   ]
  },
  {
   "cell_type": "markdown",
   "metadata": {},
   "source": [
    "arrest is about 1.6%"
   ]
  },
  {
   "cell_type": "code",
   "execution_count": 46,
   "metadata": {},
   "outputs": [],
   "source": [
    "import numpy as np"
   ]
  },
  {
   "cell_type": "code",
   "execution_count": 47,
   "metadata": {},
   "outputs": [
    {
     "data": {
      "text/plain": [
       "0.016232909022070023"
      ]
     },
     "execution_count": 47,
     "metadata": {},
     "output_type": "execute_result"
    }
   ],
   "source": [
    "# alternative way to calculate arrested made\n",
    "df.arrest_made.mean()"
   ]
  },
  {
   "cell_type": "code",
   "execution_count": 48,
   "metadata": {},
   "outputs": [],
   "source": [
    "df['arrest_made'] = df.arrest_made.astype('bool')"
   ]
  },
  {
   "cell_type": "code",
   "execution_count": 49,
   "metadata": {},
   "outputs": [
    {
     "data": {
      "text/plain": [
       "dtype('bool')"
      ]
     },
     "execution_count": 49,
     "metadata": {},
     "output_type": "execute_result"
    }
   ],
   "source": [
    "df.arrest_made.dtype"
   ]
  },
  {
   "cell_type": "code",
   "execution_count": 50,
   "metadata": {},
   "outputs": [
    {
     "data": {
      "text/plain": [
       "array([513.0, 121.0, 325.0, nan, 727.0, 721.0, 831.0, 221.0, 331.0, 315.0,\n",
       "       627.0, 713.0, 531.0, 811.0, 123.0, 321.0, 611.0, 523.0, 217.0,\n",
       "       317.0, 225.0, 815.0, 533.0, 411.0, 215.0, 715.0, 125.0, 425.0,\n",
       "       711.0, 313.0, 623.0, 823.0, 213.0, 625.0, 613.0, 521.0, 211.0,\n",
       "       227.0, 115.0, 821.0, 621.0, 617.0, 413.0, 515.0, 423.0, 723.0,\n",
       "       415.0, 113.0, 517.0, 323.0, 813.0, 421.0, 333.0, 725.0, 825.0,\n",
       "       117.0, 511.0, 615.0, 535.0, 111.0, 311.0, 835.0, 223.0, 525.0,\n",
       "       833.0, 335.0, 41.0, 12.0, '621', '125', '511', '115', '215', '523',\n",
       "       '521', '517', '727', '831', '411', '333', '223', '531', '723',\n",
       "       '711', '113', '313', '315', '833', '815', '835', '221', '227',\n",
       "       '217', '825', '123', '323', '111', '533', '117', '821', '317',\n",
       "       '811', '721', '611', '325', '413', '225', '515', '625', '423',\n",
       "       '617', '613', '311', '425', '823', '421', '321', '211', '525',\n",
       "       '13', '623', '213', '813', '513', '331', '415', '335', '615',\n",
       "       '535', '715', '121', '627', '713', '725', '41', '61', '31', '12',\n",
       "       'UNK', 13.0, 61.0, 53.0, 32.0, 33.0, 51.0, 62.0, 52.0, 22.0, 63.0,\n",
       "       31.0, '413N', '515K', '33', '32', '52'], dtype=object)"
      ]
     },
     "execution_count": 50,
     "metadata": {},
     "output_type": "execute_result"
    }
   ],
   "source": [
    "df.zone.unique()"
   ]
  },
  {
   "cell_type": "code",
   "execution_count": 51,
   "metadata": {},
   "outputs": [
    {
     "data": {
      "text/plain": [
       "zone\n",
       "12.0    0.000000\n",
       "13.0    0.000000\n",
       "22.0    0.000000\n",
       "31.0    0.000000\n",
       "32.0    0.000000\n",
       "          ...   \n",
       "825     0.005973\n",
       "831     0.011472\n",
       "833     0.009795\n",
       "835     0.007281\n",
       "UNK     0.000000\n",
       "Name: arrest_made, Length: 154, dtype: float64"
      ]
     },
     "execution_count": 51,
     "metadata": {},
     "output_type": "execute_result"
    }
   ],
   "source": [
    "df.groupby('zone').arrest_made.mean()"
   ]
  },
  {
   "cell_type": "code",
   "execution_count": 52,
   "metadata": {},
   "outputs": [
    {
     "data": {
      "text/plain": [
       "array([5.0, 1.0, 3.0, nan, 7.0, 8.0, 2.0, 6.0, 4.0, '6', '1', '5', '2',\n",
       "       '7', '8', '4', '3', 'U'], dtype=object)"
      ]
     },
     "execution_count": 52,
     "metadata": {},
     "output_type": "execute_result"
    }
   ],
   "source": [
    "df.precinct.unique()"
   ]
  },
  {
   "cell_type": "code",
   "execution_count": 53,
   "metadata": {},
   "outputs": [
    {
     "data": {
      "text/plain": [
       "precinct\n",
       "1.0    0.012505\n",
       "2.0    0.021502\n",
       "3.0    0.014446\n",
       "4.0    0.013660\n",
       "5.0    0.016564\n",
       "6.0    0.020923\n",
       "7.0    0.023521\n",
       "8.0    0.012972\n",
       "1      0.013499\n",
       "2      0.021358\n",
       "3      0.014706\n",
       "4      0.014946\n",
       "5      0.016080\n",
       "6      0.019624\n",
       "7      0.020325\n",
       "8      0.013141\n",
       "U      0.000000\n",
       "Name: arrest_made, dtype: float64"
      ]
     },
     "execution_count": 53,
     "metadata": {},
     "output_type": "execute_result"
    }
   ],
   "source": [
    "df.groupby('precinct').arrest_made.mean()"
   ]
  },
  {
   "cell_type": "markdown",
   "metadata": {},
   "source": [
    "## Calculate the search rate by counting the values"
   ]
  },
  {
   "cell_type": "code",
   "execution_count": 54,
   "metadata": {},
   "outputs": [
    {
     "data": {
      "text/plain": [
       "False    0.958721\n",
       "True     0.041279\n",
       "Name: search_conducted, dtype: float64"
      ]
     },
     "execution_count": 54,
     "metadata": {},
     "output_type": "execute_result"
    }
   ],
   "source": [
    "\n",
    "df.search_conducted.value_counts(normalize=True)"
   ]
  },
  {
   "cell_type": "code",
   "execution_count": 55,
   "metadata": {},
   "outputs": [
    {
     "data": {
      "text/plain": [
       "0.041278596014666734"
      ]
     },
     "execution_count": 55,
     "metadata": {},
     "output_type": "execute_result"
    }
   ],
   "source": [
    "# Calculate the search rate by taking the mean\n",
    "df.search_conducted.mean()"
   ]
  },
  {
   "cell_type": "markdown",
   "metadata": {},
   "source": [
    "### Calculate the search rate for female drivers"
   ]
  },
  {
   "cell_type": "code",
   "execution_count": 56,
   "metadata": {},
   "outputs": [
    {
     "data": {
      "text/plain": [
       "0.023503454413189913"
      ]
     },
     "execution_count": 56,
     "metadata": {},
     "output_type": "execute_result"
    }
   ],
   "source": [
    "\n",
    "df[df.subject_sex == 'female'].search_conducted.mean()"
   ]
  },
  {
   "cell_type": "markdown",
   "metadata": {},
   "source": [
    "### Calculate the search rate for male drivers"
   ]
  },
  {
   "cell_type": "code",
   "execution_count": 57,
   "metadata": {},
   "outputs": [
    {
     "data": {
      "text/plain": [
       "0.05346809706325268"
      ]
     },
     "execution_count": 57,
     "metadata": {},
     "output_type": "execute_result"
    }
   ],
   "source": [
    "\n",
    "df[df.subject_sex =='male'].search_conducted.mean()"
   ]
  },
  {
   "cell_type": "markdown",
   "metadata": {},
   "source": [
    "### Calculate the search rate for both groups simultaneously"
   ]
  },
  {
   "cell_type": "code",
   "execution_count": 58,
   "metadata": {},
   "outputs": [
    {
     "data": {
      "text/plain": [
       "subject_sex  search_conducted\n",
       "female       False               1220192\n",
       "             True                  29369\n",
       "male         False               1724725\n",
       "             True                  97427\n",
       "Name: search_conducted, dtype: int64"
      ]
     },
     "execution_count": 58,
     "metadata": {},
     "output_type": "execute_result"
    }
   ],
   "source": [
    "\n",
    "df.groupby('subject_sex').search_conducted.value_counts()"
   ]
  },
  {
   "cell_type": "code",
   "execution_count": 59,
   "metadata": {},
   "outputs": [
    {
     "data": {
      "text/plain": [
       "male      1822180\n",
       "female    1249571\n",
       "Name: subject_sex, dtype: int64"
      ]
     },
     "execution_count": 59,
     "metadata": {},
     "output_type": "execute_result"
    }
   ],
   "source": [
    "df.subject_sex.value_counts()"
   ]
  },
  {
   "cell_type": "markdown",
   "metadata": {},
   "source": [
    "### Calculate the search rate for each combination of gender and violation"
   ]
  },
  {
   "cell_type": "code",
   "execution_count": 61,
   "metadata": {},
   "outputs": [
    {
     "data": {
      "text/plain": [
       "violation                    search_conducted\n",
       "child restraint              False                  1054\n",
       "                             True                     49\n",
       "investigative stop           False                 47429\n",
       "                             True                   8580\n",
       "moving traffic violation     False               1482379\n",
       "                             True                  54661\n",
       "parking violation            False                  7431\n",
       "                             True                    301\n",
       "registration                 False                176652\n",
       "                             True                   7933\n",
       "safety violation             False                177638\n",
       "                             True                   7087\n",
       "seatbelt violation           False                 97509\n",
       "                             True                   5230\n",
       "vehicle equipment violation  False                947751\n",
       "                             True                  42263\n",
       "Name: search_conducted, dtype: int64"
      ]
     },
     "execution_count": 61,
     "metadata": {},
     "output_type": "execute_result"
    }
   ],
   "source": [
    "# Convert subject and violation to numeric\n",
    "df.groupby('violation').search_conducted.value_counts()"
   ]
  },
  {
   "cell_type": "code",
   "execution_count": 112,
   "metadata": {},
   "outputs": [
    {
     "data": {
      "text/plain": [
       "subject_sex  search_conducted\n",
       "female       False               1220192\n",
       "             True                  29369\n",
       "male         False               1724725\n",
       "             True                  97427\n",
       "Name: search_conducted, dtype: int64"
      ]
     },
     "execution_count": 112,
     "metadata": {},
     "output_type": "execute_result"
    }
   ],
   "source": [
    "df.groupby('subject_sex').search_conducted.value_counts()"
   ]
  },
  {
   "cell_type": "code",
   "execution_count": 109,
   "metadata": {},
   "outputs": [
    {
     "data": {
      "text/plain": [
       "subject_sex  violation                    search_conducted\n",
       "female       child restraint              False               0.969444\n",
       "                                          True                0.030556\n",
       "             investigative stop           False               0.905624\n",
       "                                          True                0.094376\n",
       "             moving traffic violation     False               0.980327\n",
       "                                          True                0.019673\n",
       "             parking violation            False               0.975209\n",
       "                                          True                0.024791\n",
       "             registration                 False               0.974240\n",
       "                                          True                0.025760\n",
       "             safety violation             False               0.976666\n",
       "                                          True                0.023334\n",
       "             seatbelt violation           False               0.968101\n",
       "                                          True                0.031899\n",
       "             vehicle equipment violation  False               0.975194\n",
       "                                          True                0.024806\n",
       "male         child restraint              False               0.929504\n",
       "                                          True                0.070496\n",
       "             investigative stop           False               0.816081\n",
       "                                          True                0.183919\n",
       "             moving traffic violation     False               0.953353\n",
       "                                          True                0.046647\n",
       "             parking violation            False               0.952180\n",
       "                                          True                0.047820\n",
       "             registration                 False               0.944738\n",
       "                                          True                0.055262\n",
       "             safety violation             False               0.951362\n",
       "                                          True                0.048638\n",
       "             seatbelt violation           False               0.939739\n",
       "                                          True                0.060261\n",
       "             vehicle equipment violation  False               0.944864\n",
       "                                          True                0.055136\n",
       "Name: search_conducted, dtype: float64"
      ]
     },
     "execution_count": 109,
     "metadata": {},
     "output_type": "execute_result"
    }
   ],
   "source": [
    "\n",
    "df.groupby(['subject_sex', 'violation']).search_conducted.value_counts(normalize=True)"
   ]
  },
  {
   "cell_type": "code",
   "execution_count": 107,
   "metadata": {},
   "outputs": [
    {
     "data": {
      "text/plain": [
       "violation                    subject_sex  search_conducted\n",
       "child restraint              female       False               0.969444\n",
       "                                          True                0.030556\n",
       "                             male         False               0.929504\n",
       "                                          True                0.070496\n",
       "investigative stop           female       False               0.905624\n",
       "                                          True                0.094376\n",
       "                             male         False               0.816081\n",
       "                                          True                0.183919\n",
       "moving traffic violation     female       False               0.980327\n",
       "                                          True                0.019673\n",
       "                             male         False               0.953353\n",
       "                                          True                0.046647\n",
       "parking violation            female       False               0.975209\n",
       "                                          True                0.024791\n",
       "                             male         False               0.952180\n",
       "                                          True                0.047820\n",
       "registration                 female       False               0.974240\n",
       "                                          True                0.025760\n",
       "                             male         False               0.944738\n",
       "                                          True                0.055262\n",
       "safety violation             female       False               0.976666\n",
       "                                          True                0.023334\n",
       "                             male         False               0.951362\n",
       "                                          True                0.048638\n",
       "seatbelt violation           female       False               0.968101\n",
       "                                          True                0.031899\n",
       "                             male         False               0.939739\n",
       "                                          True                0.060261\n",
       "vehicle equipment violation  female       False               0.975194\n",
       "                                          True                0.024806\n",
       "                             male         False               0.944864\n",
       "                                          True                0.055136\n",
       "Name: search_conducted, dtype: float64"
      ]
     },
     "execution_count": 107,
     "metadata": {},
     "output_type": "execute_result"
    }
   ],
   "source": [
    "# Reverse the ordering to group by violation before gender\n",
    "df.groupby(['violation', 'subject_sex']).search_conducted.value_counts(normalize=True)"
   ]
  },
  {
   "cell_type": "code",
   "execution_count": 69,
   "metadata": {},
   "outputs": [
    {
     "data": {
      "text/plain": [
       "False    2944917\n",
       "True      126796\n",
       "Name: search_conducted, dtype: int64"
      ]
     },
     "execution_count": 69,
     "metadata": {},
     "output_type": "execute_result"
    }
   ],
   "source": [
    "df.search_conducted.value_counts()"
   ]
  },
  {
   "cell_type": "code",
   "execution_count": 70,
   "metadata": {},
   "outputs": [
    {
     "data": {
      "text/plain": [
       "False    3010414\n",
       "True       61315\n",
       "True          22\n",
       "Name: frisk_performed, dtype: int64"
      ]
     },
     "execution_count": 70,
     "metadata": {},
     "output_type": "execute_result"
    }
   ],
   "source": [
    "df.frisk_performed.value_counts(dropna=False)"
   ]
  },
  {
   "cell_type": "code",
   "execution_count": 71,
   "metadata": {},
   "outputs": [
    {
     "data": {
      "text/plain": [
       "0.032501104433327224"
      ]
     },
     "execution_count": 71,
     "metadata": {},
     "output_type": "execute_result"
    }
   ],
   "source": [
    "df.search_vehicle.mean()"
   ]
  },
  {
   "cell_type": "code",
   "execution_count": 72,
   "metadata": {},
   "outputs": [
    {
     "data": {
      "text/plain": [
       "moving traffic violation       1537063\n",
       "vehicle equipment violation     990022\n",
       "safety violation                184725\n",
       "registration                    184585\n",
       "seatbelt violation              102741\n",
       "investigative stop               56012\n",
       "parking violation                 7732\n",
       "child restraint                   1103\n",
       "Name: reason_for_stop, dtype: int64"
      ]
     },
     "execution_count": 72,
     "metadata": {},
     "output_type": "execute_result"
    }
   ],
   "source": [
    "df.reason_for_stop.value_counts()"
   ]
  },
  {
   "cell_type": "code",
   "execution_count": 73,
   "metadata": {},
   "outputs": [
    {
     "data": {
      "text/plain": [
       "0.001745259785223337"
      ]
     },
     "execution_count": 73,
     "metadata": {},
     "output_type": "execute_result"
    }
   ],
   "source": [
    "## Calculating the inventory rate\n",
    "df.raw_search_inventory.mean()"
   ]
  },
  {
   "cell_type": "code",
   "execution_count": 74,
   "metadata": {},
   "outputs": [
    {
     "ename": "AttributeError",
     "evalue": "'DataFrame' object has no attribute 'inventory'",
     "output_type": "error",
     "traceback": [
      "\u001b[0;31m---------------------------------------------------------------------------\u001b[0m",
      "\u001b[0;31mAttributeError\u001b[0m                            Traceback (most recent call last)",
      "\u001b[0;32m<ipython-input-74-6254e9dd800e>\u001b[0m in \u001b[0;36m<module>\u001b[0;34m\u001b[0m\n\u001b[1;32m      1\u001b[0m \u001b[0msearched\u001b[0m \u001b[0;34m=\u001b[0m \u001b[0mdf\u001b[0m\u001b[0;34m[\u001b[0m\u001b[0mdf\u001b[0m\u001b[0;34m.\u001b[0m\u001b[0msearch_conducted\u001b[0m \u001b[0;34m==\u001b[0m \u001b[0;32mTrue\u001b[0m\u001b[0;34m]\u001b[0m\u001b[0;34m\u001b[0m\u001b[0;34m\u001b[0m\u001b[0m\n\u001b[0;32m----> 2\u001b[0;31m \u001b[0msearched\u001b[0m\u001b[0;34m.\u001b[0m\u001b[0minventory\u001b[0m\u001b[0;34m.\u001b[0m\u001b[0mmean\u001b[0m\u001b[0;34m(\u001b[0m\u001b[0;34m)\u001b[0m\u001b[0;34m\u001b[0m\u001b[0;34m\u001b[0m\u001b[0m\n\u001b[0m",
      "\u001b[0;32m/opt/anaconda3/lib/python3.7/site-packages/pandas/core/generic.py\u001b[0m in \u001b[0;36m__getattr__\u001b[0;34m(self, name)\u001b[0m\n\u001b[1;32m   5272\u001b[0m             \u001b[0;32mif\u001b[0m \u001b[0mself\u001b[0m\u001b[0;34m.\u001b[0m\u001b[0m_info_axis\u001b[0m\u001b[0;34m.\u001b[0m\u001b[0m_can_hold_identifiers_and_holds_name\u001b[0m\u001b[0;34m(\u001b[0m\u001b[0mname\u001b[0m\u001b[0;34m)\u001b[0m\u001b[0;34m:\u001b[0m\u001b[0;34m\u001b[0m\u001b[0;34m\u001b[0m\u001b[0m\n\u001b[1;32m   5273\u001b[0m                 \u001b[0;32mreturn\u001b[0m \u001b[0mself\u001b[0m\u001b[0;34m[\u001b[0m\u001b[0mname\u001b[0m\u001b[0;34m]\u001b[0m\u001b[0;34m\u001b[0m\u001b[0;34m\u001b[0m\u001b[0m\n\u001b[0;32m-> 5274\u001b[0;31m             \u001b[0;32mreturn\u001b[0m \u001b[0mobject\u001b[0m\u001b[0;34m.\u001b[0m\u001b[0m__getattribute__\u001b[0m\u001b[0;34m(\u001b[0m\u001b[0mself\u001b[0m\u001b[0;34m,\u001b[0m \u001b[0mname\u001b[0m\u001b[0;34m)\u001b[0m\u001b[0;34m\u001b[0m\u001b[0;34m\u001b[0m\u001b[0m\n\u001b[0m\u001b[1;32m   5275\u001b[0m \u001b[0;34m\u001b[0m\u001b[0m\n\u001b[1;32m   5276\u001b[0m     \u001b[0;32mdef\u001b[0m \u001b[0m__setattr__\u001b[0m\u001b[0;34m(\u001b[0m\u001b[0mself\u001b[0m\u001b[0;34m,\u001b[0m \u001b[0mname\u001b[0m\u001b[0;34m:\u001b[0m \u001b[0mstr\u001b[0m\u001b[0;34m,\u001b[0m \u001b[0mvalue\u001b[0m\u001b[0;34m)\u001b[0m \u001b[0;34m->\u001b[0m \u001b[0;32mNone\u001b[0m\u001b[0;34m:\u001b[0m\u001b[0;34m\u001b[0m\u001b[0;34m\u001b[0m\u001b[0m\n",
      "\u001b[0;31mAttributeError\u001b[0m: 'DataFrame' object has no attribute 'inventory'"
     ]
    }
   ],
   "source": [
    "searched = df[df.search_conducted == True]\n",
    "searched.inventory.mean()"
   ]
  },
  {
   "cell_type": "code",
   "execution_count": 75,
   "metadata": {},
   "outputs": [
    {
     "ename": "NameError",
     "evalue": "name 'search_type' is not defined",
     "output_type": "error",
     "traceback": [
      "\u001b[0;31m---------------------------------------------------------------------------\u001b[0m",
      "\u001b[0;31mNameError\u001b[0m                                 Traceback (most recent call last)",
      "\u001b[0;32m<ipython-input-75-8a9a5d6963b7>\u001b[0m in \u001b[0;36m<module>\u001b[0;34m\u001b[0m\n\u001b[1;32m      1\u001b[0m \u001b[0;31m# Count the 'search_type' values\u001b[0m\u001b[0;34m\u001b[0m\u001b[0;34m\u001b[0m\u001b[0;34m\u001b[0m\u001b[0m\n\u001b[0;32m----> 2\u001b[0;31m \u001b[0msearch_type\u001b[0m\u001b[0;34m.\u001b[0m\u001b[0mvalue_counts\u001b[0m\u001b[0;34m(\u001b[0m\u001b[0;34m)\u001b[0m\u001b[0;34m\u001b[0m\u001b[0;34m\u001b[0m\u001b[0m\n\u001b[0m",
      "\u001b[0;31mNameError\u001b[0m: name 'search_type' is not defined"
     ]
    }
   ],
   "source": [
    "# Count the 'search_type' values\n",
    "search_type.value_counts()"
   ]
  },
  {
   "cell_type": "code",
   "execution_count": 76,
   "metadata": {},
   "outputs": [
    {
     "ename": "AttributeError",
     "evalue": "'DataFrame' object has no attribute 'search_type'",
     "output_type": "error",
     "traceback": [
      "\u001b[0;31m---------------------------------------------------------------------------\u001b[0m",
      "\u001b[0;31mAttributeError\u001b[0m                            Traceback (most recent call last)",
      "\u001b[0;32m<ipython-input-76-a07dee227def>\u001b[0m in \u001b[0;36m<module>\u001b[0;34m\u001b[0m\n\u001b[1;32m      1\u001b[0m \u001b[0;31m# Check if 'search_type' contains the string 'Protective Frisk'\u001b[0m\u001b[0;34m\u001b[0m\u001b[0;34m\u001b[0m\u001b[0;34m\u001b[0m\u001b[0m\n\u001b[0;32m----> 2\u001b[0;31m \u001b[0mdf\u001b[0m\u001b[0;34m[\u001b[0m\u001b[0;34m'frisk'\u001b[0m\u001b[0;34m]\u001b[0m \u001b[0;34m=\u001b[0m \u001b[0mdf\u001b[0m\u001b[0;34m.\u001b[0m\u001b[0msearch_type\u001b[0m\u001b[0;34m.\u001b[0m\u001b[0mstr\u001b[0m\u001b[0;34m.\u001b[0m\u001b[0mcontains\u001b[0m\u001b[0;34m(\u001b[0m\u001b[0;34m'Protective Frisk'\u001b[0m\u001b[0;34m,\u001b[0m \u001b[0mna\u001b[0m\u001b[0;34m=\u001b[0m\u001b[0;32mFalse\u001b[0m\u001b[0;34m)\u001b[0m\u001b[0;34m\u001b[0m\u001b[0;34m\u001b[0m\u001b[0m\n\u001b[0m",
      "\u001b[0;32m/opt/anaconda3/lib/python3.7/site-packages/pandas/core/generic.py\u001b[0m in \u001b[0;36m__getattr__\u001b[0;34m(self, name)\u001b[0m\n\u001b[1;32m   5272\u001b[0m             \u001b[0;32mif\u001b[0m \u001b[0mself\u001b[0m\u001b[0;34m.\u001b[0m\u001b[0m_info_axis\u001b[0m\u001b[0;34m.\u001b[0m\u001b[0m_can_hold_identifiers_and_holds_name\u001b[0m\u001b[0;34m(\u001b[0m\u001b[0mname\u001b[0m\u001b[0;34m)\u001b[0m\u001b[0;34m:\u001b[0m\u001b[0;34m\u001b[0m\u001b[0;34m\u001b[0m\u001b[0m\n\u001b[1;32m   5273\u001b[0m                 \u001b[0;32mreturn\u001b[0m \u001b[0mself\u001b[0m\u001b[0;34m[\u001b[0m\u001b[0mname\u001b[0m\u001b[0;34m]\u001b[0m\u001b[0;34m\u001b[0m\u001b[0;34m\u001b[0m\u001b[0m\n\u001b[0;32m-> 5274\u001b[0;31m             \u001b[0;32mreturn\u001b[0m \u001b[0mobject\u001b[0m\u001b[0;34m.\u001b[0m\u001b[0m__getattribute__\u001b[0m\u001b[0;34m(\u001b[0m\u001b[0mself\u001b[0m\u001b[0;34m,\u001b[0m \u001b[0mname\u001b[0m\u001b[0;34m)\u001b[0m\u001b[0;34m\u001b[0m\u001b[0;34m\u001b[0m\u001b[0m\n\u001b[0m\u001b[1;32m   5275\u001b[0m \u001b[0;34m\u001b[0m\u001b[0m\n\u001b[1;32m   5276\u001b[0m     \u001b[0;32mdef\u001b[0m \u001b[0m__setattr__\u001b[0m\u001b[0;34m(\u001b[0m\u001b[0mself\u001b[0m\u001b[0;34m,\u001b[0m \u001b[0mname\u001b[0m\u001b[0;34m:\u001b[0m \u001b[0mstr\u001b[0m\u001b[0;34m,\u001b[0m \u001b[0mvalue\u001b[0m\u001b[0;34m)\u001b[0m \u001b[0;34m->\u001b[0m \u001b[0;32mNone\u001b[0m\u001b[0;34m:\u001b[0m\u001b[0;34m\u001b[0m\u001b[0;34m\u001b[0m\u001b[0m\n",
      "\u001b[0;31mAttributeError\u001b[0m: 'DataFrame' object has no attribute 'search_type'"
     ]
    }
   ],
   "source": [
    "# Check if 'search_type' contains the string 'Protective Frisk'\n",
    "df['frisk'] = df.search_type.str.contains('Protective Frisk', na=False)"
   ]
  },
  {
   "cell_type": "code",
   "execution_count": 77,
   "metadata": {},
   "outputs": [
    {
     "data": {
      "text/plain": [
       "dtype('O')"
      ]
     },
     "execution_count": 77,
     "metadata": {},
     "output_type": "execute_result"
    }
   ],
   "source": [
    "# Check the data type of 'frisk'\n",
    "df.frisk_performed.dtypes"
   ]
  },
  {
   "cell_type": "code",
   "execution_count": 78,
   "metadata": {},
   "outputs": [
    {
     "name": "stdout",
     "output_type": "stream",
     "text": [
      "61315\n"
     ]
    }
   ],
   "source": [
    "# Take the sum of 'frisk'\n",
    "print(df.frisk_performed.sum())"
   ]
  },
  {
   "cell_type": "code",
   "execution_count": 79,
   "metadata": {},
   "outputs": [],
   "source": [
    "# Create a DataFrame of stops in which a search was conducted\n",
    "searched = df[df.search_conducted == True]\n",
    "\n"
   ]
  },
  {
   "cell_type": "code",
   "execution_count": 80,
   "metadata": {},
   "outputs": [
    {
     "data": {
      "text/plain": [
       "0.4835794056407344"
      ]
     },
     "execution_count": 80,
     "metadata": {},
     "output_type": "execute_result"
    }
   ],
   "source": [
    "# Calculate the overall frisk rate by taking the mean of 'frisk'\n",
    "searched.frisk_performed.mean()\n",
    "\n"
   ]
  },
  {
   "cell_type": "code",
   "execution_count": null,
   "metadata": {},
   "outputs": [],
   "source": [
    "#df['subject_sex'] = pd.factorize(df.subject_sex)[0]"
   ]
  },
  {
   "cell_type": "code",
   "execution_count": 81,
   "metadata": {},
   "outputs": [
    {
     "data": {
      "text/html": [
       "<div>\n",
       "<style scoped>\n",
       "    .dataframe tbody tr th:only-of-type {\n",
       "        vertical-align: middle;\n",
       "    }\n",
       "\n",
       "    .dataframe tbody tr th {\n",
       "        vertical-align: top;\n",
       "    }\n",
       "\n",
       "    .dataframe thead th {\n",
       "        text-align: right;\n",
       "    }\n",
       "</style>\n",
       "<table border=\"1\" class=\"dataframe\">\n",
       "  <thead>\n",
       "    <tr style=\"text-align: right;\">\n",
       "      <th></th>\n",
       "      <th>lat</th>\n",
       "      <th>lng</th>\n",
       "      <th>reporting_area</th>\n",
       "      <th>subject_age</th>\n",
       "      <th>arrest_made</th>\n",
       "      <th>raw_search_arrest</th>\n",
       "      <th>raw_search_warrant</th>\n",
       "    </tr>\n",
       "    <tr>\n",
       "      <th>subject_sex</th>\n",
       "      <th></th>\n",
       "      <th></th>\n",
       "      <th></th>\n",
       "      <th></th>\n",
       "      <th></th>\n",
       "      <th></th>\n",
       "      <th></th>\n",
       "    </tr>\n",
       "  </thead>\n",
       "  <tbody>\n",
       "    <tr>\n",
       "      <th>female</th>\n",
       "      <td>36.149534</td>\n",
       "      <td>-86.761003</td>\n",
       "      <td>7282.709675</td>\n",
       "      <td>36.349984</td>\n",
       "      <td>0.010672</td>\n",
       "      <td>0.006358</td>\n",
       "      <td>0.000639</td>\n",
       "    </tr>\n",
       "    <tr>\n",
       "      <th>male</th>\n",
       "      <td>36.146880</td>\n",
       "      <td>-86.768610</td>\n",
       "      <td>7688.371608</td>\n",
       "      <td>37.536626</td>\n",
       "      <td>0.020062</td>\n",
       "      <td>0.014103</td>\n",
       "      <td>0.001182</td>\n",
       "    </tr>\n",
       "  </tbody>\n",
       "</table>\n",
       "</div>"
      ],
      "text/plain": [
       "                   lat        lng  reporting_area  subject_age  arrest_made  \\\n",
       "subject_sex                                                                   \n",
       "female       36.149534 -86.761003     7282.709675    36.349984     0.010672   \n",
       "male         36.146880 -86.768610     7688.371608    37.536626     0.020062   \n",
       "\n",
       "             raw_search_arrest  raw_search_warrant  \n",
       "subject_sex                                         \n",
       "female                0.006358            0.000639  \n",
       "male                  0.014103            0.001182  "
      ]
     },
     "execution_count": 81,
     "metadata": {},
     "output_type": "execute_result"
    }
   ],
   "source": [
    "df.groupby('subject_sex').mean()"
   ]
  },
  {
   "cell_type": "code",
   "execution_count": 101,
   "metadata": {},
   "outputs": [
    {
     "ename": "DataError",
     "evalue": "No numeric types to aggregate",
     "output_type": "error",
     "traceback": [
      "\u001b[0;31m---------------------------------------------------------------------------\u001b[0m",
      "\u001b[0;31mDataError\u001b[0m                                 Traceback (most recent call last)",
      "\u001b[0;32m<ipython-input-101-1b3b4d1f2d32>\u001b[0m in \u001b[0;36m<module>\u001b[0;34m\u001b[0m\n\u001b[1;32m      1\u001b[0m \u001b[0;31m# Calculate the frisk rate for each gender\u001b[0m\u001b[0;34m\u001b[0m\u001b[0;34m\u001b[0m\u001b[0;34m\u001b[0m\u001b[0m\n\u001b[0;32m----> 2\u001b[0;31m \u001b[0msearched\u001b[0m\u001b[0;34m.\u001b[0m\u001b[0mgroupby\u001b[0m\u001b[0;34m(\u001b[0m\u001b[0;34m'subject_sex'\u001b[0m\u001b[0;34m)\u001b[0m\u001b[0;34m.\u001b[0m\u001b[0mfrisk_performed\u001b[0m\u001b[0;34m.\u001b[0m\u001b[0mmean\u001b[0m\u001b[0;34m(\u001b[0m\u001b[0;34m)\u001b[0m\u001b[0;34m\u001b[0m\u001b[0;34m\u001b[0m\u001b[0m\n\u001b[0m",
      "\u001b[0;32m/opt/anaconda3/lib/python3.7/site-packages/pandas/core/groupby/groupby.py\u001b[0m in \u001b[0;36mmean\u001b[0;34m(self, *args, **kwargs)\u001b[0m\n\u001b[1;32m   1230\u001b[0m         \u001b[0mnv\u001b[0m\u001b[0;34m.\u001b[0m\u001b[0mvalidate_groupby_func\u001b[0m\u001b[0;34m(\u001b[0m\u001b[0;34m\"mean\"\u001b[0m\u001b[0;34m,\u001b[0m \u001b[0margs\u001b[0m\u001b[0;34m,\u001b[0m \u001b[0mkwargs\u001b[0m\u001b[0;34m,\u001b[0m \u001b[0;34m[\u001b[0m\u001b[0;34m\"numeric_only\"\u001b[0m\u001b[0;34m]\u001b[0m\u001b[0;34m)\u001b[0m\u001b[0;34m\u001b[0m\u001b[0;34m\u001b[0m\u001b[0m\n\u001b[1;32m   1231\u001b[0m         return self._cython_agg_general(\n\u001b[0;32m-> 1232\u001b[0;31m             \u001b[0;34m\"mean\"\u001b[0m\u001b[0;34m,\u001b[0m \u001b[0malt\u001b[0m\u001b[0;34m=\u001b[0m\u001b[0;32mlambda\u001b[0m \u001b[0mx\u001b[0m\u001b[0;34m,\u001b[0m \u001b[0maxis\u001b[0m\u001b[0;34m:\u001b[0m \u001b[0mSeries\u001b[0m\u001b[0;34m(\u001b[0m\u001b[0mx\u001b[0m\u001b[0;34m)\u001b[0m\u001b[0;34m.\u001b[0m\u001b[0mmean\u001b[0m\u001b[0;34m(\u001b[0m\u001b[0;34m**\u001b[0m\u001b[0mkwargs\u001b[0m\u001b[0;34m)\u001b[0m\u001b[0;34m,\u001b[0m \u001b[0;34m**\u001b[0m\u001b[0mkwargs\u001b[0m\u001b[0;34m\u001b[0m\u001b[0;34m\u001b[0m\u001b[0m\n\u001b[0m\u001b[1;32m   1233\u001b[0m         )\n\u001b[1;32m   1234\u001b[0m \u001b[0;34m\u001b[0m\u001b[0m\n",
      "\u001b[0;32m/opt/anaconda3/lib/python3.7/site-packages/pandas/core/groupby/groupby.py\u001b[0m in \u001b[0;36m_cython_agg_general\u001b[0;34m(self, how, alt, numeric_only, min_count)\u001b[0m\n\u001b[1;32m    905\u001b[0m \u001b[0;34m\u001b[0m\u001b[0m\n\u001b[1;32m    906\u001b[0m         \u001b[0;32mif\u001b[0m \u001b[0mlen\u001b[0m\u001b[0;34m(\u001b[0m\u001b[0moutput\u001b[0m\u001b[0;34m)\u001b[0m \u001b[0;34m==\u001b[0m \u001b[0;36m0\u001b[0m\u001b[0;34m:\u001b[0m\u001b[0;34m\u001b[0m\u001b[0;34m\u001b[0m\u001b[0m\n\u001b[0;32m--> 907\u001b[0;31m             \u001b[0;32mraise\u001b[0m \u001b[0mDataError\u001b[0m\u001b[0;34m(\u001b[0m\u001b[0;34m\"No numeric types to aggregate\"\u001b[0m\u001b[0;34m)\u001b[0m\u001b[0;34m\u001b[0m\u001b[0;34m\u001b[0m\u001b[0m\n\u001b[0m\u001b[1;32m    908\u001b[0m \u001b[0;34m\u001b[0m\u001b[0m\n\u001b[1;32m    909\u001b[0m         \u001b[0;32mreturn\u001b[0m \u001b[0mself\u001b[0m\u001b[0;34m.\u001b[0m\u001b[0m_wrap_aggregated_output\u001b[0m\u001b[0;34m(\u001b[0m\u001b[0moutput\u001b[0m\u001b[0;34m)\u001b[0m\u001b[0;34m\u001b[0m\u001b[0;34m\u001b[0m\u001b[0m\n",
      "\u001b[0;31mDataError\u001b[0m: No numeric types to aggregate"
     ]
    }
   ],
   "source": [
    "# Calculate the frisk rate for each gender\n",
    "searched.groupby('subject_sex').frisk_performed.mean()"
   ]
  },
  {
   "cell_type": "markdown",
   "metadata": {},
   "source": [
    "## Import matplotlib.pyplot as plt"
   ]
  },
  {
   "cell_type": "code",
   "execution_count": 62,
   "metadata": {},
   "outputs": [],
   "source": [
    "\n",
    "\n",
    "import matplotlib.pyplot as plt"
   ]
  },
  {
   "cell_type": "code",
   "execution_count": 85,
   "metadata": {},
   "outputs": [
    {
     "data": {
      "text/plain": [
       "0.016241876376047407"
      ]
     },
     "execution_count": 85,
     "metadata": {},
     "output_type": "execute_result"
    }
   ],
   "source": [
    "# Calculate the overall arrest rate\n",
    "df.arrest_made.mean()"
   ]
  },
  {
   "cell_type": "code",
   "execution_count": 86,
   "metadata": {},
   "outputs": [
    {
     "data": {
      "text/plain": [
       "date_and_time\n",
       "0     0.024304\n",
       "1     0.036687\n",
       "2     0.044870\n",
       "3     0.044963\n",
       "4     0.036398\n",
       "5     0.019485\n",
       "6     0.022503\n",
       "7     0.006954\n",
       "8     0.006713\n",
       "9     0.008071\n",
       "10    0.008830\n",
       "11    0.010832\n",
       "12    0.009860\n",
       "13    0.011065\n",
       "14    0.014819\n",
       "15    0.009826\n",
       "16    0.011311\n",
       "17    0.013762\n",
       "18    0.014519\n",
       "19    0.013732\n",
       "20    0.015316\n",
       "21    0.017878\n",
       "22    0.022160\n",
       "23    0.018633\n",
       "Name: arrest_made, dtype: float64"
      ]
     },
     "execution_count": 86,
     "metadata": {},
     "output_type": "execute_result"
    }
   ],
   "source": [
    "# Calculate the hourly arrest rate\n",
    "df.groupby(df.index.hour).arrest_made.mean()"
   ]
  },
  {
   "cell_type": "code",
   "execution_count": 87,
   "metadata": {},
   "outputs": [],
   "source": [
    "# Save the hourly arrest rate\n",
    "hourly_arrest_rate = df.groupby(df.index.hour).arrest_made.mean()"
   ]
  },
  {
   "cell_type": "code",
   "execution_count": 88,
   "metadata": {},
   "outputs": [
    {
     "data": {
      "image/png": "[encoded data removed]",
      "text/plain": [
       "<Figure size 432x288 with 1 Axes>"
      ]
     },
     "metadata": {
      "needs_background": "light"
     },
     "output_type": "display_data"
    }
   ],
   "source": [
    "# Create a line plot of 'hourly_arrest_rate'\n",
    "hourly_arrest_rate.plot()\n",
    "\n",
    "# Add the xlabel, ylabel, and title\n",
    "plt.xlabel('Hour')\n",
    "plt.ylabel('Arrest Rate')\n",
    "plt.title('Arrest Rate by Time of Day')\n",
    "\n",
    "# Display the plot\n",
    "plt.show()\n"
   ]
  },
  {
   "cell_type": "code",
   "execution_count": 92,
   "metadata": {},
   "outputs": [
    {
     "data": {
      "text/plain": [
       "date_and_time\n",
       "1     0.016333\n",
       "2     0.017264\n",
       "3     0.016824\n",
       "4     0.016357\n",
       "5     0.016292\n",
       "6     0.014931\n",
       "7     0.015568\n",
       "8     0.016428\n",
       "9     0.016357\n",
       "10    0.015932\n",
       "11    0.016548\n",
       "12    0.015989\n",
       "Name: arrest_made, dtype: float64"
      ]
     },
     "execution_count": 92,
     "metadata": {},
     "output_type": "execute_result"
    }
   ],
   "source": [
    "# Calculate the monthly arrest rate\n",
    "df.groupby(df.index.month).arrest_made.mean()"
   ]
  },
  {
   "cell_type": "code",
   "execution_count": 93,
   "metadata": {},
   "outputs": [],
   "source": [
    "# Save the monthly arrest rate\n",
    "monthly_arrest_rate = df.groupby(df.index.month).arrest_made.mean()"
   ]
  },
  {
   "cell_type": "code",
   "execution_count": 96,
   "metadata": {},
   "outputs": [
    {
     "data": {
      "image/png": "[encoded data removed]",
      "text/plain": [
       "<Figure size 432x288 with 1 Axes>"
      ]
     },
     "metadata": {
      "needs_background": "light"
     },
     "output_type": "display_data"
    }
   ],
   "source": [
    "# Create a line plot of 'hourly_arrest_rate'\n",
    "monthly_arrest_rate.plot()\n",
    "\n",
    "# Add the xlabel, ylabel, and title\n",
    "plt.xlabel('Month')\n",
    "plt.ylabel('Arrest Rate')\n",
    "plt.title('Arrest Rate y Month')\n",
    "\n",
    "# Display Plot\n",
    "plt.show()"
   ]
  },
  {
   "cell_type": "code",
   "execution_count": 97,
   "metadata": {},
   "outputs": [
    {
     "data": {
      "text/plain": [
       "date_and_time\n",
       "2010    0.019681\n",
       "2011    0.017703\n",
       "2012    0.015172\n",
       "2013    0.014305\n",
       "2014    0.014810\n",
       "2015    0.015993\n",
       "2016    0.016260\n",
       "2017    0.015739\n",
       "2018    0.017858\n",
       "2019    0.022328\n",
       "Name: arrest_made, dtype: float64"
      ]
     },
     "execution_count": 97,
     "metadata": {},
     "output_type": "execute_result"
    }
   ],
   "source": [
    "# Calculate the monthly arrest rate\n",
    "df.groupby(df.index.year).arrest_made.mean()"
   ]
  },
  {
   "cell_type": "code",
   "execution_count": 98,
   "metadata": {},
   "outputs": [],
   "source": [
    "yearly_arrest_rate = df.groupby(df.index.year).arrest_made.mean()"
   ]
  },
  {
   "cell_type": "code",
   "execution_count": 99,
   "metadata": {},
   "outputs": [
    {
     "data": {
      "image/png": "[encoded data removed]",
      "text/plain": [
       "<Figure size 432x288 with 1 Axes>"
      ]
     },
     "metadata": {
      "needs_background": "light"
     },
     "output_type": "display_data"
    }
   ],
   "source": [
    "# Plot Yearly arrest rate\n",
    "yearly_arrest_rate.plot()\n",
    "\n",
    "# Adding x_axis, Y_axis, and Title\n",
    "plt.xlabel('Year')\n",
    "plt.ylabel('Yearly Rate')\n",
    "plt.title('Yearly Arrested Rate')\n",
    "\n",
    "# Show the plot\n",
    "\n",
    "plt.show()"
   ]
  },
  {
   "cell_type": "code",
   "execution_count": null,
   "metadata": {},
   "outputs": [],
   "source": []
  },
  {
   "cell_type": "code",
   "execution_count": 90,
   "metadata": {},
   "outputs": [
    {
     "ename": "AttributeError",
     "evalue": "'DataFrame' object has no attribute 'contraband_drugs'",
     "output_type": "error",
     "traceback": [
      "\u001b[0;31m---------------------------------------------------------------------------\u001b[0m",
      "\u001b[0;31mAttributeError\u001b[0m                            Traceback (most recent call last)",
      "\u001b[0;32m<ipython-input-90-3e6540666054>\u001b[0m in \u001b[0;36m<module>\u001b[0;34m\u001b[0m\n\u001b[1;32m      1\u001b[0m \u001b[0;31m# Calculate the annual rate of drug-related stops\u001b[0m\u001b[0;34m\u001b[0m\u001b[0;34m\u001b[0m\u001b[0;34m\u001b[0m\u001b[0m\n\u001b[0;32m----> 2\u001b[0;31m \u001b[0mprint\u001b[0m\u001b[0;34m(\u001b[0m\u001b[0mdf\u001b[0m\u001b[0;34m.\u001b[0m\u001b[0mcontraband_drugs\u001b[0m\u001b[0;34m.\u001b[0m\u001b[0mresample\u001b[0m\u001b[0;34m(\u001b[0m\u001b[0;34m'A'\u001b[0m\u001b[0;34m)\u001b[0m\u001b[0;34m.\u001b[0m\u001b[0mmean\u001b[0m\u001b[0;34m(\u001b[0m\u001b[0;34m)\u001b[0m\u001b[0;34m)\u001b[0m\u001b[0;34m\u001b[0m\u001b[0;34m\u001b[0m\u001b[0m\n\u001b[0m\u001b[1;32m      3\u001b[0m \u001b[0;34m\u001b[0m\u001b[0m\n\u001b[1;32m      4\u001b[0m \u001b[0;31m# Save the annual rate of drug-related stops\u001b[0m\u001b[0;34m\u001b[0m\u001b[0;34m\u001b[0m\u001b[0;34m\u001b[0m\u001b[0m\n\u001b[1;32m      5\u001b[0m \u001b[0mannual_drug_rate\u001b[0m \u001b[0;34m=\u001b[0m \u001b[0mdf\u001b[0m\u001b[0;34m.\u001b[0m\u001b[0mcontraband_drugs\u001b[0m\u001b[0;34m.\u001b[0m\u001b[0mresample\u001b[0m\u001b[0;34m(\u001b[0m\u001b[0;34m'A'\u001b[0m\u001b[0;34m)\u001b[0m\u001b[0;34m.\u001b[0m\u001b[0mmean\u001b[0m\u001b[0;34m(\u001b[0m\u001b[0;34m)\u001b[0m\u001b[0;34m\u001b[0m\u001b[0;34m\u001b[0m\u001b[0m\n",
      "\u001b[0;32m/opt/anaconda3/lib/python3.7/site-packages/pandas/core/generic.py\u001b[0m in \u001b[0;36m__getattr__\u001b[0;34m(self, name)\u001b[0m\n\u001b[1;32m   5272\u001b[0m             \u001b[0;32mif\u001b[0m \u001b[0mself\u001b[0m\u001b[0;34m.\u001b[0m\u001b[0m_info_axis\u001b[0m\u001b[0;34m.\u001b[0m\u001b[0m_can_hold_identifiers_and_holds_name\u001b[0m\u001b[0;34m(\u001b[0m\u001b[0mname\u001b[0m\u001b[0;34m)\u001b[0m\u001b[0;34m:\u001b[0m\u001b[0;34m\u001b[0m\u001b[0;34m\u001b[0m\u001b[0m\n\u001b[1;32m   5273\u001b[0m                 \u001b[0;32mreturn\u001b[0m \u001b[0mself\u001b[0m\u001b[0;34m[\u001b[0m\u001b[0mname\u001b[0m\u001b[0;34m]\u001b[0m\u001b[0;34m\u001b[0m\u001b[0;34m\u001b[0m\u001b[0m\n\u001b[0;32m-> 5274\u001b[0;31m             \u001b[0;32mreturn\u001b[0m \u001b[0mobject\u001b[0m\u001b[0;34m.\u001b[0m\u001b[0m__getattribute__\u001b[0m\u001b[0;34m(\u001b[0m\u001b[0mself\u001b[0m\u001b[0;34m,\u001b[0m \u001b[0mname\u001b[0m\u001b[0;34m)\u001b[0m\u001b[0;34m\u001b[0m\u001b[0;34m\u001b[0m\u001b[0m\n\u001b[0m\u001b[1;32m   5275\u001b[0m \u001b[0;34m\u001b[0m\u001b[0m\n\u001b[1;32m   5276\u001b[0m     \u001b[0;32mdef\u001b[0m \u001b[0m__setattr__\u001b[0m\u001b[0;34m(\u001b[0m\u001b[0mself\u001b[0m\u001b[0;34m,\u001b[0m \u001b[0mname\u001b[0m\u001b[0;34m:\u001b[0m \u001b[0mstr\u001b[0m\u001b[0;34m,\u001b[0m \u001b[0mvalue\u001b[0m\u001b[0;34m)\u001b[0m \u001b[0;34m->\u001b[0m \u001b[0;32mNone\u001b[0m\u001b[0;34m:\u001b[0m\u001b[0;34m\u001b[0m\u001b[0;34m\u001b[0m\u001b[0m\n",
      "\u001b[0;31mAttributeError\u001b[0m: 'DataFrame' object has no attribute 'contraband_drugs'"
     ]
    }
   ],
   "source": [
    "# Calculate the annual rate of drug-related stops\n",
    "print(df.contraband_drugs.resample('A').mean())\n",
    "\n",
    "# Save the annual rate of drug-related stops\n",
    "annual_drug_rate = df.contraband_drugs.resample('A').mean()\n",
    "\n",
    "# Create a line plot of 'annual_drug_rate'\n",
    "annual_drug_rate.plot()\n",
    "\n",
    "# Display the plot\n",
    "plt.show()"
   ]
  },
  {
   "cell_type": "markdown",
   "metadata": {},
   "source": [
    "## Annual Search Rate"
   ]
  },
  {
   "cell_type": "code",
   "execution_count": null,
   "metadata": {},
   "outputs": [],
   "source": [
    "# Calculate and save the annual search rate\n",
    "annual_search_rate = df.search_conducted.resample('A').mean()\n",
    "\n",
    "# Concatenate 'annual_drug_rate' and 'annual_search_rate'\n",
    "annual = pd.concat([annual_drug_rate,annual_search_rate ], axis='columns')\n",
    "\n",
    "# Create subplots from 'annual'\n",
    "annual.plot(subplots=True)\n",
    "\n",
    "# Display the subplots\n",
    "plt.show()"
   ]
  },
  {
   "cell_type": "code",
   "execution_count": 100,
   "metadata": {},
   "outputs": [
    {
     "data": {
      "text/html": [
       "<div>\n",
       "<style scoped>\n",
       "    .dataframe tbody tr th:only-of-type {\n",
       "        vertical-align: middle;\n",
       "    }\n",
       "\n",
       "    .dataframe tbody tr th {\n",
       "        vertical-align: top;\n",
       "    }\n",
       "\n",
       "    .dataframe thead th {\n",
       "        text-align: right;\n",
       "    }\n",
       "</style>\n",
       "<table border=\"1\" class=\"dataframe\">\n",
       "  <thead>\n",
       "    <tr style=\"text-align: right;\">\n",
       "      <th>subject_sex</th>\n",
       "      <th>female</th>\n",
       "      <th>male</th>\n",
       "    </tr>\n",
       "    <tr>\n",
       "      <th>subject_race</th>\n",
       "      <th></th>\n",
       "      <th></th>\n",
       "    </tr>\n",
       "  </thead>\n",
       "  <tbody>\n",
       "    <tr>\n",
       "      <th>asian/pacific islander</th>\n",
       "      <td>14645</td>\n",
       "      <td>26786</td>\n",
       "    </tr>\n",
       "    <tr>\n",
       "      <th>black</th>\n",
       "      <td>516896</td>\n",
       "      <td>642674</td>\n",
       "    </tr>\n",
       "    <tr>\n",
       "      <th>hispanic</th>\n",
       "      <td>47828</td>\n",
       "      <td>116138</td>\n",
       "    </tr>\n",
       "    <tr>\n",
       "      <th>other</th>\n",
       "      <td>2743</td>\n",
       "      <td>7585</td>\n",
       "    </tr>\n",
       "    <tr>\n",
       "      <th>unknown</th>\n",
       "      <td>7954</td>\n",
       "      <td>26571</td>\n",
       "    </tr>\n",
       "    <tr>\n",
       "      <th>white</th>\n",
       "      <td>659505</td>\n",
       "      <td>1002426</td>\n",
       "    </tr>\n",
       "  </tbody>\n",
       "</table>\n",
       "</div>"
      ],
      "text/plain": [
       "subject_sex             female     male\n",
       "subject_race                           \n",
       "asian/pacific islander   14645    26786\n",
       "black                   516896   642674\n",
       "hispanic                 47828   116138\n",
       "other                     2743     7585\n",
       "unknown                   7954    26571\n",
       "white                   659505  1002426"
      ]
     },
     "execution_count": 100,
     "metadata": {},
     "output_type": "execute_result"
    }
   ],
   "source": [
    "# Computing a Frequency table\n",
    "pd.crosstab(df.subject_race, df.subject_sex)"
   ]
  },
  {
   "cell_type": "code",
   "execution_count": null,
   "metadata": {},
   "outputs": [],
   "source": [
    "# Create a frequency table of districts and violations\n",
    "print(pd.crosstab(ri.district, ri.violation ))\n",
    "\n",
    "# Save the frequency table as 'all_zones'\n",
    "all_zones = pd.crosstab(ri.district, ri.violation )\n",
    "\n",
    "# Select rows 'Zone K1' through 'Zone K3'\n",
    "print(all_zones.loc['Zone K1':'Zone K3'])\n",
    "\n",
    "# Save the smaller table as 'k_zones'\n",
    "k_zones = all_zones.loc['Zone K1':'Zone K3'])"
   ]
  },
  {
   "cell_type": "code",
   "execution_count": null,
   "metadata": {},
   "outputs": [],
   "source": [
    "# Create a frequency table of districts and violations\n",
    "print(pd.crosstab(ri.district, ri.violation))\n",
    "\n",
    "# Save the frequency table as 'all_zones'\n",
    "all_zones = pd.crosstab(ri.district, ri.violation)\n",
    "\n",
    "# Select rows 'Zone K1' through 'Zone K3'\n",
    "print(all_zones.loc['Zone K1':'Zone K3'])\n",
    "\n",
    "# Save the smaller table as 'k_zones'\n",
    "k_zones = all_zones.loc['Zone K1':'Zone K3']"
   ]
  },
  {
   "cell_type": "code",
   "execution_count": null,
   "metadata": {},
   "outputs": [],
   "source": [
    "# Create a stacked bar plot of 'k_zones'\n",
    "k_zones.plot(kind='bar', stacked=True)\n",
    "\n",
    "# Display the plot\n",
    "plt.show()"
   ]
  },
  {
   "cell_type": "code",
   "execution_count": null,
   "metadata": {},
   "outputs": [],
   "source": [
    "# Mapping\n",
    "mapping = {'up':True, 'down': False}\n",
    " "
   ]
  },
  {
   "cell_type": "code",
   "execution_count": null,
   "metadata": {},
   "outputs": [],
   "source": []
  },
  {
   "cell_type": "code",
   "execution_count": null,
   "metadata": {},
   "outputs": [],
   "source": []
  },
  {
   "cell_type": "code",
   "execution_count": null,
   "metadata": {},
   "outputs": [],
   "source": []
  }
 ],
 "metadata": {
  "kernelspec": {
   "display_name": "Python 3",
   "language": "python",
   "name": "python3"
  },
  "language_info": {
   "codemirror_mode": {
    "name": "ipython",
    "version": 3
   },
   "file_extension": ".py",
   "mimetype": "text/x-python",
   "name": "python",
   "nbconvert_exporter": "python",
   "pygments_lexer": "ipython3",
   "version": "3.7.6"
  }
 },
 "nbformat": 4,
 "nbformat_minor": 4
}
